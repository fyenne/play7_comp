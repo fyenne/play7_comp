{
 "cells": [
  {
   "cell_type": "code",
   "execution_count": 1,
   "metadata": {},
   "outputs": [
    {
     "data": {
      "text/plain": [
       "['OD集货量',\n",
       " '中转场历史到件量0601至0831.csv',\n",
       " '场地数据.csv',\n",
       " '班次数据0601至0831.csv',\n",
       " '运力配载数据0601至0831']"
      ]
     },
     "execution_count": 1,
     "metadata": {},
     "output_type": "execute_result"
    }
   ],
   "source": [
    "import pandas as pd\n",
    "import os\n",
    "# import seaborn as sns\n",
    "import numpy as np\n",
    "import re\n",
    "from datetime import datetime\n",
    "import seaborn as sns\n",
    "path = './' + 'data/'\n",
    "os.listdir(path)\n",
    "# os.cpu_count()"
   ]
  },
  {
   "cell_type": "code",
   "execution_count": 2,
   "metadata": {},
   "outputs": [],
   "source": [
    "# # %%time\n",
    "# # trans = pd.read_json('./data/运力配载数据0601至0831/line_info_0601.json', lines=True)\n",
    "# hist_arr = pd.read_csv(path + '中转场历史到件量0601至0831.csv')\n",
    "# # loc = pd.read_csv(path + '场地数据.csv')\n",
    "# # # loc.to_csv(path + '场地数据.csv', index = None, encoding='utf_8_sig')\n",
    "# # task_arrange = pd.read_csv(path + '班次数据0601至0831.csv')\n",
    "\n",
    "\n",
    "# path_od = path + 'OD集货量/'  \n",
    "# # path+\n",
    "# dfs = pd.DataFrame()\n",
    "# for fname in os.listdir(path_od):\n",
    "#     if re.search(r'\\.csv$', fname):\n",
    "#         dfs = pd.concat(\n",
    "#             [dfs , pd.read_csv(path_od + fname)], axis = 0, ignore_index = True)\n",
    "# prc_in = pd.DataFrame(dfs) \n",
    "# print(\n",
    "#     'loc:', loc.shape, '\\nhist:' ,\n",
    "#     hist_arr.shape, '\\ntask:',\n",
    "#     task_arrange.shape, '\\nod:' ,\n",
    "#     dfs.shape)"
   ]
  },
  {
   "cell_type": "code",
   "execution_count": null,
   "metadata": {},
   "outputs": [],
   "source": [
    "task_loc = pd.read_pickle('./data_clean/task_loc.p')"
   ]
  },
  {
   "cell_type": "markdown",
   "metadata": {},
   "source": [
    "---\n",
    "\n",
    "# Loc table clean  "
   ]
  },
  {
   "cell_type": "code",
   "execution_count": 4,
   "metadata": {},
   "outputs": [
    {
     "data": {
      "text/plain": [
       "(444, 21)"
      ]
     },
     "execution_count": 4,
     "metadata": {},
     "output_type": "execute_result"
    }
   ],
   "source": [
    "loc = pd.read_pickle('./data_clean/loc.p'); loc.shape"
   ]
  },
  {
   "cell_type": "code",
   "execution_count": 5,
   "metadata": {},
   "outputs": [
    {
     "data": {
      "text/html": [
       "<div>\n",
       "<style scoped>\n",
       "    .dataframe tbody tr th:only-of-type {\n",
       "        vertical-align: middle;\n",
       "    }\n",
       "\n",
       "    .dataframe tbody tr th {\n",
       "        vertical-align: top;\n",
       "    }\n",
       "\n",
       "    .dataframe thead th {\n",
       "        text-align: right;\n",
       "    }\n",
       "</style>\n",
       "<table border=\"1\" class=\"dataframe\">\n",
       "  <thead>\n",
       "    <tr style=\"text-align: right;\">\n",
       "      <th></th>\n",
       "      <th>场地代码</th>\n",
       "      <th>场地类型</th>\n",
       "      <th>主服务业务区</th>\n",
       "      <th>单小时处理能力</th>\n",
       "      <th>卸货卡位总数</th>\n",
       "      <th>卸车卡位（17.5M）</th>\n",
       "      <th>卸车卡位（&gt;=15M）</th>\n",
       "      <th>卸车卡位（&lt;15M）</th>\n",
       "      <th>装货卡位总数</th>\n",
       "      <th>装车卡位（17.5M）</th>\n",
       "      <th>装车卡位（15M）</th>\n",
       "      <th>装车卡位（13.5M）</th>\n",
       "      <th>装车卡位（9.6M）</th>\n",
       "      <th>装车卡位（7.6M）</th>\n",
       "      <th>装车卡位（5.2M）</th>\n",
       "      <th>off</th>\n",
       "      <th>onn</th>\n",
       "      <th>off_p1</th>\n",
       "      <th>off_p2</th>\n",
       "      <th>onn_p1</th>\n",
       "      <th>onn_p2</th>\n",
       "    </tr>\n",
       "  </thead>\n",
       "  <tbody>\n",
       "    <tr>\n",
       "      <th>205</th>\n",
       "      <td>552W</td>\n",
       "      <td>片区中转场</td>\n",
       "      <td>551Y</td>\n",
       "      <td>21516</td>\n",
       "      <td>12</td>\n",
       "      <td>False</td>\n",
       "      <td>True</td>\n",
       "      <td>True</td>\n",
       "      <td>87</td>\n",
       "      <td>False</td>\n",
       "      <td>True</td>\n",
       "      <td>True</td>\n",
       "      <td>False</td>\n",
       "      <td>False</td>\n",
       "      <td>False</td>\n",
       "      <td>22.77636</td>\n",
       "      <td>28.5</td>\n",
       "      <td>1.89803</td>\n",
       "      <td>0.261797</td>\n",
       "      <td>2.375</td>\n",
       "      <td>0.327586</td>\n",
       "    </tr>\n",
       "  </tbody>\n",
       "</table>\n",
       "</div>"
      ],
      "text/plain": [
       "     场地代码   场地类型 主服务业务区  单小时处理能力  卸货卡位总数  卸车卡位（17.5M）  卸车卡位（>=15M）  \\\n",
       "205  552W  片区中转场   551Y    21516      12        False         True   \n",
       "\n",
       "     卸车卡位（<15M）  装货卡位总数  装车卡位（17.5M）  装车卡位（15M）  装车卡位（13.5M）  装车卡位（9.6M）  \\\n",
       "205        True      87        False       True         True       False   \n",
       "\n",
       "     装车卡位（7.6M）  装车卡位（5.2M）       off   onn   off_p1    off_p2  onn_p1  \\\n",
       "205       False       False  22.77636  28.5  1.89803  0.261797   2.375   \n",
       "\n",
       "       onn_p2  \n",
       "205  0.327586  "
      ]
     },
     "execution_count": 5,
     "metadata": {},
     "output_type": "execute_result"
    }
   ],
   "source": [
    "pd.set_option(\"display.max_rows\", None, \"display.max_columns\", None)\n",
    "loc[loc['场地代码'] == '552W']"
   ]
  },
  {
   "cell_type": "code",
   "execution_count": null,
   "metadata": {},
   "outputs": [],
   "source": [
    "# loc.columns\n",
    "loc = loc.drop(['所在城市代码','应用场景', '分拨区' , '所在城市名称', '场地名称', '主服务城市','所在区部'], axis = 1) \n",
    "loc[[ '卸车卡位（17.5M）', '卸车卡位（>=15M）', '卸车卡位（<15M）', '装车卡位（17.5M）', '装车卡位（15M）',\n",
    "       '装车卡位（13.5M）', '装车卡位（9.6M）', '装车卡位（7.6M）', '装车卡位（5.2M）']]  = loc[[ '卸车卡位（17.5M）', '卸车卡位（>=15M）', '卸车卡位（<15M）', '装车卡位（17.5M）', '装车卡位（15M）',\n",
    "       '装车卡位（13.5M）', '装车卡位（9.6M）', '装车卡位（7.6M）', '装车卡位（5.2M）']] == 0\n",
    "# loc[['装车卡位（13.5M）', '装车卡位（9.6M）', '装车卡位（7.6M）', '装车卡位（5.2M）']].describe()\n",
    "# loc.head(2)\n",
    "loc['off_1'] = loc['卸车卡位（17.5M）'] * 17.5\n",
    "loc['off_2'] = loc['卸车卡位（>=15M）'] * 15\n",
    "loc['off_3'] = loc['卸车卡位（<15M）'] * (13.5 * 0.970721 + 9.6 * 11.056306 + 7.6 * 2.279279 + 5.2 * 9.826577)/ \\\n",
    "    (0.970721 + 11.056306 + 2.279279 + 9.826577)\n",
    "loc['onn_1'] = loc['装车卡位（17.5M）'] * 17.5\n",
    "loc['onn_2'] = loc['装车卡位（15M）'] * 15\n",
    "loc['onn_3'] = loc['装车卡位（13.5M）'] * 13.5\n",
    "loc['onn_4'] = loc['装车卡位（9.6M）'] * 9.6\n",
    "loc['onn_5'] = loc['装车卡位（7.6M）'] * 7.6\n",
    "loc['onn_6'] = loc['装车卡位（5.2M）'] * 5.2\n",
    "loc['off'] = loc['off_1'] + loc['off_2'] + loc['off_3']\n",
    "loc['onn'] = loc['onn_1'] + loc['onn_2'] + loc['onn_3'] + loc['onn_4'] + loc['onn_5'] + loc['onn_6']\n",
    "loc = loc.drop(['off_1','off_2', 'off_3', 'onn_1', 'onn_2', 'onn_3', 'onn_4', 'onn_5', 'onn_6'], axis = 1)\n",
    "\n",
    "loc['off_p1'] = loc['off']/loc['卸货卡位总数']\n",
    "loc['off_p2'] = loc['off']/loc['装货卡位总数']\n",
    "loc['onn_p1'] = loc['onn']/loc['卸货卡位总数']\n",
    "loc['onn_p2'] = loc['onn']/loc['装货卡位总数']\n",
    "\n",
    "# loc.to_pickle('./data_clean/loc.p')\n"
   ]
  },
  {
   "cell_type": "code",
   "execution_count": null,
   "metadata": {},
   "outputs": [],
   "source": [
    "corr_loc = loc.corr()\n",
    "corr_loc.style.background_gradient(cmap='coolwarm', axis=None)"
   ]
  },
  {
   "cell_type": "markdown",
   "metadata": {},
   "source": [
    "# Task arrage clean"
   ]
  },
  {
   "cell_type": "code",
   "execution_count": null,
   "metadata": {},
   "outputs": [],
   "source": [
    "# task_arrange[(task_arrange['operate_zone_code'] == '552W') & (task_arrange['batch_date'] == '2021-06-04')]"
   ]
  },
  {
   "cell_type": "code",
   "execution_count": 6,
   "metadata": {},
   "outputs": [],
   "source": [
    "# pd.to_pickle(ta,  './data_clean/task.p')\n",
    "ta = pd.read_pickle('./data_clean/task.p')\n",
    "# task_loc[task_loc['operate_zone_code'] == '010R']"
   ]
  },
  {
   "cell_type": "code",
   "execution_count": null,
   "metadata": {},
   "outputs": [],
   "source": [
    "%%time\n",
    "\n",
    "ta = task_arrange.groupby(['operate_zone_code', 'batch_date']).\\\n",
    "    agg(min_begin = ('plan_begin_tm', min),\n",
    "    max_begin = ('plan_begin_tm', max),\n",
    "    min_end = ('plan_end_tm', min),\n",
    "    max_end = ('plan_end_tm', max),\n",
    "    count = ('batch_code', 'nunique')\n",
    "    \n",
    "    ).reset_index()\n",
    "\n",
    "def convt_min(col):\n",
    "    ta[col] = ta[col].apply(lambda i: datetime.strptime(i,'%H:%M').hour*60 + datetime.strptime(i,'%H:%M').minute)\n",
    "     \n",
    "for i in ['min_begin', 'max_begin', 'min_end','max_end']:\n",
    "    convt_min(i)\n",
    "\n",
    "\n",
    "# ta['time_consume_per_vote'] = (ta['max_end'] - ta['min_begin'])/ta['count']"
   ]
  },
  {
   "cell_type": "code",
   "execution_count": null,
   "metadata": {},
   "outputs": [],
   "source": [
    "corr_ta = ta.corr()\n",
    "corr_ta.style.background_gradient(cmap='coolwarm', axis=None)\n"
   ]
  },
  {
   "cell_type": "code",
   "execution_count": 31,
   "metadata": {},
   "outputs": [],
   "source": [
    "# %%time\n",
    "# import matplotlib.pyplot as plt\n",
    "# ta_plt2 = pd.DataFrame(ta['operate_zone_code'].value_counts())\n",
    "# ta_plt2 = pd.DataFrame(ta_plt2['operate_zone_code'].value_counts())\n",
    "# ta_plt2['site'] = ta_plt2.index\n",
    "# plt.pie(x = 'operate_zone_code' , data =ta_plt2)"
   ]
  },
  {
   "cell_type": "code",
   "execution_count": 32,
   "metadata": {},
   "outputs": [
    {
     "name": "stdout",
     "output_type": "stream",
     "text": [
      "Wall time: 142 ms\n"
     ]
    }
   ],
   "source": [
    "%%time\n",
    "task_loc = ta.merge(loc, left_on='operate_zone_code', right_on = '场地代码', how = 'left')"
   ]
  },
  {
   "cell_type": "code",
   "execution_count": null,
   "metadata": {},
   "outputs": [],
   "source": [
    "%%time\n",
    "del loc, ta \n",
    "# task_loc.to_pickle('./data_clean/task_loc.p')\n"
   ]
  },
  {
   "cell_type": "code",
   "execution_count": 33,
   "metadata": {},
   "outputs": [],
   "source": [
    "%%time\n",
    "task_loc_valued = task_loc[~task_loc['场地代码'].isna()]\n",
    "task_loc_nulled = task_loc[task_loc['场地代码'].isna()]"
   ]
  },
  {
   "cell_type": "code",
   "execution_count": null,
   "metadata": {},
   "outputs": [],
   "source": [
    "# task_loc.isnull().sum()/len(task_loc)"
   ]
  },
  {
   "cell_type": "markdown",
   "metadata": {},
   "source": [
    "---\n",
    "# od"
   ]
  },
  {
   "cell_type": "code",
   "execution_count": null,
   "metadata": {},
   "outputs": [],
   "source": [
    "[prc_in[(prc_in['date1'] == '2021-06-08') & (prc_in['destsitecode'] == '552W')].sum(),\n",
    "prc_in[(prc_in['date1'] == '2021-06-04') & (prc_in['srcsitecode'] == '552W')].sum()]"
   ]
  },
  {
   "cell_type": "code",
   "execution_count": null,
   "metadata": {},
   "outputs": [],
   "source": [
    "# prc_in.head()\n",
    "\n",
    "od = prc_in.groupby(['srcsitecode','destsitecode', 'date1']).agg(\n",
    "    batch_cnt = ('srcbatchcode', 'nunique'),\n",
    "    route_cnt = ('route_code', 'nunique'),\n",
    "    votes = ('votes', sum),\n",
    "    weights = ('weight1', sum),\n",
    "    air_votes =('air_votes', sum),\n",
    "    air_weights = ('air_weight1', sum)\n",
    ").reset_index()"
   ]
  },
  {
   "cell_type": "code",
   "execution_count": null,
   "metadata": {},
   "outputs": [],
   "source": [
    "# od.to_pickle('./data_clean/od.p')"
   ]
  },
  {
   "cell_type": "code",
   "execution_count": null,
   "metadata": {},
   "outputs": [],
   "source": [
    "# hist_arr[hist_arr['a.report_dt'] == '2021-06-01'].sort_values('a.zonecode')"
   ]
  },
  {
   "cell_type": "code",
   "execution_count": null,
   "metadata": {},
   "outputs": [],
   "source": [
    "od"
   ]
  },
  {
   "cell_type": "code",
   "execution_count": null,
   "metadata": {},
   "outputs": [],
   "source": [
    "# test  =prc_in[(prc_in['date1'] == '2021-06-01') & (prc_in['srcbatchcode'] == '010R2100')]"
   ]
  },
  {
   "cell_type": "code",
   "execution_count": null,
   "metadata": {},
   "outputs": [],
   "source": [
    "od.columns"
   ]
  },
  {
   "cell_type": "code",
   "execution_count": null,
   "metadata": {},
   "outputs": [],
   "source": [
    "od_src = od[['srcsitecode','date1', 'batch_cnt', 'route_cnt',\n",
    "       'votes', 'weights', 'air_votes', 'air_weights']]"
   ]
  },
  {
   "cell_type": "code",
   "execution_count": null,
   "metadata": {},
   "outputs": [],
   "source": [
    "od.head()"
   ]
  },
  {
   "cell_type": "markdown",
   "metadata": {},
   "source": [
    "---\n",
    "\n",
    "# hist"
   ]
  },
  {
   "cell_type": "code",
   "execution_count": null,
   "metadata": {},
   "outputs": [],
   "source": [
    "hist_arr[(hist_arr['a.zonecode'] == '552W') &  ( hist_arr['a.report_dt'] == '2021-06-04' )]"
   ]
  },
  {
   "cell_type": "markdown",
   "metadata": {},
   "source": [
    "# hist_arr.to_pickle('./data_clean/hist_arr.p')\n",
    "# merge all"
   ]
  },
  {
   "cell_type": "code",
   "execution_count": null,
   "metadata": {},
   "outputs": [],
   "source": [
    "hist_arr.merge(od, left_on = ['a.report_dt', 'a.zonecode'], right_on = '')"
   ]
  },
  {
   "cell_type": "code",
   "execution_count": null,
   "metadata": {},
   "outputs": [],
   "source": [
    "task_loc.merge(hist_arr, \\\n",
    "    left_on = ['operate_zone_code', 'batch_date'], right_on=['a.zonecode', 'a.report_dt'], validate = 'one_to_one',\n",
    "    how = 'right')"
   ]
  },
  {
   "cell_type": "code",
   "execution_count": null,
   "metadata": {},
   "outputs": [],
   "source": []
  },
  {
   "cell_type": "code",
   "execution_count": null,
   "metadata": {},
   "outputs": [],
   "source": [
    "[len(task_loc), len(train), len(od)]"
   ]
  },
  {
   "cell_type": "code",
   "execution_count": null,
   "metadata": {},
   "outputs": [],
   "source": []
  },
  {
   "cell_type": "code",
   "execution_count": null,
   "metadata": {},
   "outputs": [],
   "source": [
    "# od"
   ]
  },
  {
   "cell_type": "markdown",
   "metadata": {},
   "source": [
    "---\n",
    "# transport\n"
   ]
  },
  {
   "cell_type": "code",
   "execution_count": null,
   "metadata": {},
   "outputs": [],
   "source": [
    "trans.head(2)"
   ]
  },
  {
   "cell_type": "code",
   "execution_count": null,
   "metadata": {},
   "outputs": [],
   "source": [
    "trans.iloc[11,:]['passZoneCodes'][0]"
   ]
  },
  {
   "cell_type": "code",
   "execution_count": null,
   "metadata": {},
   "outputs": [],
   "source": [
    "trans.iloc[11,:]['taskInfos'][0] # ['unloadZone']"
   ]
  },
  {
   "cell_type": "code",
   "execution_count": null,
   "metadata": {},
   "outputs": [],
   "source": [
    "trans.iloc[1,:]['vehicleInfos'][0] # ['unloadZone']"
   ]
  }
 ],
 "metadata": {
  "interpreter": {
   "hash": "47b50d2908d96196e4220cfb4e81faa93803065ea975497e7026f672c1f58470"
  },
  "kernelspec": {
   "display_name": "Python 3.8.8 64-bit ('siming': conda)",
   "name": "python3"
  },
  "language_info": {
   "codemirror_mode": {
    "name": "ipython",
    "version": 3
   },
   "file_extension": ".py",
   "mimetype": "text/x-python",
   "name": "python",
   "nbconvert_exporter": "python",
   "pygments_lexer": "ipython3",
   "version": "3.8.8"
  },
  "orig_nbformat": 4
 },
 "nbformat": 4,
 "nbformat_minor": 2
}
