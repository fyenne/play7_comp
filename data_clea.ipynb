{
 "cells": [
  {
   "cell_type": "code",
   "execution_count": 2,
   "metadata": {},
   "outputs": [
    {
     "data": {
      "text/plain": [
       "['OD集货量',\n",
       " '中转场历史到件量0601至0831.csv',\n",
       " '场地数据.csv',\n",
       " '班次数据0601至0831.csv',\n",
       " '运力配载数据0601至0831']"
      ]
     },
     "execution_count": 2,
     "metadata": {},
     "output_type": "execute_result"
    }
   ],
   "source": [
    "import pandas as pd\n",
    "import os\n",
    "# import seaborn as sns\n",
    "import numpy as np\n",
    "import re\n",
    "from datetime import datetime\n",
    "import seaborn as sns\n",
    "path = './' + 'data/'\n",
    "os.listdir(path)\n",
    "# os.cpu_count()"
   ]
  },
  {
   "cell_type": "code",
   "execution_count": 2,
   "metadata": {},
   "outputs": [],
   "source": [
    "# # %%time\n",
    "# # trans = pd.read_json('./data/运力配载数据0601至0831/line_info_0601.json', lines=True)\n",
    "# hist_arr = pd.read_csv(path + '中转场历史到件量0601至0831.csv')\n",
    "# # loc = pd.read_csv(path + '场地数据.csv')\n",
    "# # # loc.to_csv(path + '场地数据.csv', index = None, encoding='utf_8_sig')\n",
    "# # task_arrange = pd.read_csv(path + '班次数据0601至0831.csv')\n",
    "\n",
    "\n",
    "# path_od = path + 'OD集货量/'  \n",
    "# # path+\n",
    "# dfs = pd.DataFrame()\n",
    "# for fname in os.listdir(path_od):\n",
    "#     if re.search(r'\\.csv$', fname):\n",
    "#         dfs = pd.concat(\n",
    "#             [dfs , pd.read_csv(path_od + fname)], axis = 0, ignore_index = True)\n",
    "# prc_in = pd.DataFrame(dfs) \n",
    "# print(\n",
    "#     'loc:', loc.shape, '\\nhist:' ,\n",
    "#     hist_arr.shape, '\\ntask:',\n",
    "#     task_arrange.shape, '\\nod:' ,\n",
    "#     dfs.shape)"
   ]
  },
  {
   "cell_type": "code",
   "execution_count": 3,
   "metadata": {},
   "outputs": [],
   "source": [
    "task_loc = pd.read_pickle('./data_clean/task_loc.p')"
   ]
  },
  {
   "cell_type": "markdown",
   "metadata": {},
   "source": [
    "---\n",
    "\n",
    "# Loc table clean  "
   ]
  },
  {
   "cell_type": "code",
   "execution_count": 4,
   "metadata": {},
   "outputs": [
    {
     "data": {
      "text/plain": [
       "(444, 21)"
      ]
     },
     "execution_count": 4,
     "metadata": {},
     "output_type": "execute_result"
    }
   ],
   "source": [
    "loc = pd.read_pickle('./data_clean/loc.p'); loc.shape"
   ]
  },
  {
   "cell_type": "code",
   "execution_count": 5,
   "metadata": {},
   "outputs": [
    {
     "data": {
      "text/html": [
       "<div>\n",
       "<style scoped>\n",
       "    .dataframe tbody tr th:only-of-type {\n",
       "        vertical-align: middle;\n",
       "    }\n",
       "\n",
       "    .dataframe tbody tr th {\n",
       "        vertical-align: top;\n",
       "    }\n",
       "\n",
       "    .dataframe thead th {\n",
       "        text-align: right;\n",
       "    }\n",
       "</style>\n",
       "<table border=\"1\" class=\"dataframe\">\n",
       "  <thead>\n",
       "    <tr style=\"text-align: right;\">\n",
       "      <th></th>\n",
       "      <th>场地代码</th>\n",
       "      <th>场地类型</th>\n",
       "      <th>主服务业务区</th>\n",
       "      <th>单小时处理能力</th>\n",
       "      <th>卸货卡位总数</th>\n",
       "      <th>卸车卡位（17.5M）</th>\n",
       "      <th>卸车卡位（&gt;=15M）</th>\n",
       "      <th>卸车卡位（&lt;15M）</th>\n",
       "      <th>装货卡位总数</th>\n",
       "      <th>装车卡位（17.5M）</th>\n",
       "      <th>装车卡位（15M）</th>\n",
       "      <th>装车卡位（13.5M）</th>\n",
       "      <th>装车卡位（9.6M）</th>\n",
       "      <th>装车卡位（7.6M）</th>\n",
       "      <th>装车卡位（5.2M）</th>\n",
       "      <th>off</th>\n",
       "      <th>onn</th>\n",
       "      <th>off_p1</th>\n",
       "      <th>off_p2</th>\n",
       "      <th>onn_p1</th>\n",
       "      <th>onn_p2</th>\n",
       "    </tr>\n",
       "  </thead>\n",
       "  <tbody>\n",
       "    <tr>\n",
       "      <th>205</th>\n",
       "      <td>552W</td>\n",
       "      <td>片区中转场</td>\n",
       "      <td>551Y</td>\n",
       "      <td>21516</td>\n",
       "      <td>12</td>\n",
       "      <td>False</td>\n",
       "      <td>True</td>\n",
       "      <td>True</td>\n",
       "      <td>87</td>\n",
       "      <td>False</td>\n",
       "      <td>True</td>\n",
       "      <td>True</td>\n",
       "      <td>False</td>\n",
       "      <td>False</td>\n",
       "      <td>False</td>\n",
       "      <td>22.77636</td>\n",
       "      <td>28.5</td>\n",
       "      <td>1.89803</td>\n",
       "      <td>0.261797</td>\n",
       "      <td>2.375</td>\n",
       "      <td>0.327586</td>\n",
       "    </tr>\n",
       "  </tbody>\n",
       "</table>\n",
       "</div>"
      ],
      "text/plain": [
       "     场地代码   场地类型 主服务业务区  单小时处理能力  卸货卡位总数  卸车卡位（17.5M）  卸车卡位（>=15M）  \\\n",
       "205  552W  片区中转场   551Y    21516      12        False         True   \n",
       "\n",
       "     卸车卡位（<15M）  装货卡位总数  装车卡位（17.5M）  装车卡位（15M）  装车卡位（13.5M）  装车卡位（9.6M）  \\\n",
       "205        True      87        False       True         True       False   \n",
       "\n",
       "     装车卡位（7.6M）  装车卡位（5.2M）       off   onn   off_p1    off_p2  onn_p1  \\\n",
       "205       False       False  22.77636  28.5  1.89803  0.261797   2.375   \n",
       "\n",
       "       onn_p2  \n",
       "205  0.327586  "
      ]
     },
     "execution_count": 5,
     "metadata": {},
     "output_type": "execute_result"
    }
   ],
   "source": [
    "pd.set_option(\"display.max_rows\", None, \"display.max_columns\", None)\n",
    "loc[loc['场地代码'] == '552W']"
   ]
  },
  {
   "cell_type": "code",
   "execution_count": null,
   "metadata": {},
   "outputs": [],
   "source": [
    "# loc.columns\n",
    "loc = loc.drop(['所在城市代码','应用场景', '分拨区' , '所在城市名称', '场地名称', '主服务城市','所在区部'], axis = 1) \n",
    "loc[[ '卸车卡位（17.5M）', '卸车卡位（>=15M）', '卸车卡位（<15M）', '装车卡位（17.5M）', '装车卡位（15M）',\n",
    "       '装车卡位（13.5M）', '装车卡位（9.6M）', '装车卡位（7.6M）', '装车卡位（5.2M）']]  = loc[[ '卸车卡位（17.5M）', '卸车卡位（>=15M）', '卸车卡位（<15M）', '装车卡位（17.5M）', '装车卡位（15M）',\n",
    "       '装车卡位（13.5M）', '装车卡位（9.6M）', '装车卡位（7.6M）', '装车卡位（5.2M）']] == 0\n",
    "# loc[['装车卡位（13.5M）', '装车卡位（9.6M）', '装车卡位（7.6M）', '装车卡位（5.2M）']].describe()\n",
    "# loc.head(2)\n",
    "loc['off_1'] = loc['卸车卡位（17.5M）'] * 17.5\n",
    "loc['off_2'] = loc['卸车卡位（>=15M）'] * 15\n",
    "loc['off_3'] = loc['卸车卡位（<15M）'] * (13.5 * 0.970721 + 9.6 * 11.056306 + 7.6 * 2.279279 + 5.2 * 9.826577)/ \\\n",
    "    (0.970721 + 11.056306 + 2.279279 + 9.826577)\n",
    "loc['onn_1'] = loc['装车卡位（17.5M）'] * 17.5\n",
    "loc['onn_2'] = loc['装车卡位（15M）'] * 15\n",
    "loc['onn_3'] = loc['装车卡位（13.5M）'] * 13.5\n",
    "loc['onn_4'] = loc['装车卡位（9.6M）'] * 9.6\n",
    "loc['onn_5'] = loc['装车卡位（7.6M）'] * 7.6\n",
    "loc['onn_6'] = loc['装车卡位（5.2M）'] * 5.2\n",
    "loc['off'] = loc['off_1'] + loc['off_2'] + loc['off_3']\n",
    "loc['onn'] = loc['onn_1'] + loc['onn_2'] + loc['onn_3'] + loc['onn_4'] + loc['onn_5'] + loc['onn_6']\n",
    "loc = loc.drop(['off_1','off_2', 'off_3', 'onn_1', 'onn_2', 'onn_3', 'onn_4', 'onn_5', 'onn_6'], axis = 1)\n",
    "\n",
    "loc['off_p1'] = loc['off']/loc['卸货卡位总数']\n",
    "loc['off_p2'] = loc['off']/loc['装货卡位总数']\n",
    "loc['onn_p1'] = loc['onn']/loc['卸货卡位总数']\n",
    "loc['onn_p2'] = loc['onn']/loc['装货卡位总数']\n",
    "\n",
    "# loc.to_pickle('./data_clean/loc.p')\n"
   ]
  },
  {
   "cell_type": "code",
   "execution_count": null,
   "metadata": {},
   "outputs": [],
   "source": [
    "corr_loc = loc.corr()\n",
    "corr_loc.style.background_gradient(cmap='coolwarm', axis=None)"
   ]
  },
  {
   "cell_type": "markdown",
   "metadata": {},
   "source": [
    "# Task arrage clean"
   ]
  },
  {
   "cell_type": "code",
   "execution_count": null,
   "metadata": {},
   "outputs": [],
   "source": [
    "# task_arrange[(task_arrange['operate_zone_code'] == '552W') & (task_arrange['batch_date'] == '2021-06-04')]"
   ]
  },
  {
   "cell_type": "code",
   "execution_count": 6,
   "metadata": {},
   "outputs": [],
   "source": [
    "# pd.to_pickle(ta,  './data_clean/task.p')\n",
    "ta = pd.read_pickle('./data_clean/task.p')\n",
    "# task_loc[task_loc['operate_zone_code'] == '010R']"
   ]
  },
  {
   "cell_type": "code",
   "execution_count": null,
   "metadata": {},
   "outputs": [],
   "source": [
    "%%time\n",
    "\n",
    "ta = task_arrange.groupby(['operate_zone_code', 'batch_date']).\\\n",
    "    agg(min_begin = ('plan_begin_tm', min),\n",
    "    max_begin = ('plan_begin_tm', max),\n",
    "    min_end = ('plan_end_tm', min),\n",
    "    max_end = ('plan_end_tm', max),\n",
    "    count = ('batch_code', 'nunique')\n",
    "    \n",
    "    ).reset_index()\n",
    "\n",
    "def convt_min(col):\n",
    "    ta[col] = ta[col].apply(lambda i: datetime.strptime(i,'%H:%M').hour*60 + datetime.strptime(i,'%H:%M').minute)\n",
    "     \n",
    "for i in ['min_begin', 'max_begin', 'min_end','max_end']:\n",
    "    convt_min(i)\n",
    "\n",
    "\n",
    "# ta['time_consume_per_vote'] = (ta['max_end'] - ta['min_begin'])/ta['count']"
   ]
  },
  {
   "cell_type": "code",
   "execution_count": 26,
   "metadata": {},
   "outputs": [],
   "source": [
    "corr_ta = ta.corr()\n",
    "corr_ta.style.background_gradient(cmap='coolwarm', axis=None)\n"
   ]
  },
  {
   "cell_type": "code",
   "execution_count": 31,
   "metadata": {},
   "outputs": [],
   "source": [
    "# %%time\n",
    "# import matplotlib.pyplot as plt\n",
    "# ta_plt2 = pd.DataFrame(ta['operate_zone_code'].value_counts())\n",
    "# ta_plt2 = pd.DataFrame(ta_plt2['operate_zone_code'].value_counts())\n",
    "# ta_plt2['site'] = ta_plt2.index\n",
    "# plt.pie(x = 'operate_zone_code' , data =ta_plt2)"
   ]
  },
  {
   "cell_type": "code",
   "execution_count": 32,
   "metadata": {},
   "outputs": [
    {
     "name": "stdout",
     "output_type": "stream",
     "text": [
      "Wall time: 142 ms\n"
     ]
    }
   ],
   "source": [
    "%%time\n",
    "task_loc = ta.merge(loc, left_on='operate_zone_code', right_on = '场地代码', how = 'left')"
   ]
  },
  {
   "cell_type": "code",
   "execution_count": null,
   "metadata": {},
   "outputs": [],
   "source": [
    "%%time\n",
    "del loc, ta \n",
    "# task_loc.to_pickle('./data_clean/task_loc.p')\n"
   ]
  },
  {
   "cell_type": "code",
   "execution_count": 51,
   "metadata": {},
   "outputs": [],
   "source": [
    "# %%time\n",
    "# task_loc_valued = task_loc[~task_loc['场地代码'].isna()]\n",
    "# task_loc_nulled = task_loc[task_loc['场地代码'].isna()]"
   ]
  },
  {
   "cell_type": "code",
   "execution_count": null,
   "metadata": {},
   "outputs": [],
   "source": [
    "# task_loc.isnull().sum()/len(task_loc)"
   ]
  },
  {
   "cell_type": "markdown",
   "metadata": {},
   "source": [
    "---\n",
    "# od"
   ]
  },
  {
   "cell_type": "code",
   "execution_count": 7,
   "metadata": {},
   "outputs": [
    {
     "data": {
      "text/html": [
       "<div>\n",
       "<style scoped>\n",
       "    .dataframe tbody tr th:only-of-type {\n",
       "        vertical-align: middle;\n",
       "    }\n",
       "\n",
       "    .dataframe tbody tr th {\n",
       "        vertical-align: top;\n",
       "    }\n",
       "\n",
       "    .dataframe thead th {\n",
       "        text-align: right;\n",
       "    }\n",
       "</style>\n",
       "<table border=\"1\" class=\"dataframe\">\n",
       "  <thead>\n",
       "    <tr style=\"text-align: right;\">\n",
       "      <th></th>\n",
       "      <th>srcsitecode</th>\n",
       "      <th>destsitecode</th>\n",
       "      <th>date1</th>\n",
       "      <th>batch_cnt</th>\n",
       "      <th>route_cnt</th>\n",
       "      <th>votes</th>\n",
       "      <th>weights</th>\n",
       "      <th>air_votes</th>\n",
       "      <th>air_weights</th>\n",
       "    </tr>\n",
       "  </thead>\n",
       "  <tbody>\n",
       "    <tr>\n",
       "      <th>0</th>\n",
       "      <td>010R</td>\n",
       "      <td>010R</td>\n",
       "      <td>2021-06-01</td>\n",
       "      <td>2</td>\n",
       "      <td>4</td>\n",
       "      <td>10.0</td>\n",
       "      <td>122.500000</td>\n",
       "      <td>2.0</td>\n",
       "      <td>4.166667</td>\n",
       "    </tr>\n",
       "    <tr>\n",
       "      <th>1</th>\n",
       "      <td>010R</td>\n",
       "      <td>010R</td>\n",
       "      <td>2021-06-02</td>\n",
       "      <td>2</td>\n",
       "      <td>3</td>\n",
       "      <td>4.0</td>\n",
       "      <td>32.500000</td>\n",
       "      <td>0.0</td>\n",
       "      <td>0.000000</td>\n",
       "    </tr>\n",
       "    <tr>\n",
       "      <th>2</th>\n",
       "      <td>010R</td>\n",
       "      <td>010R</td>\n",
       "      <td>2021-06-03</td>\n",
       "      <td>2</td>\n",
       "      <td>4</td>\n",
       "      <td>15.0</td>\n",
       "      <td>102.416667</td>\n",
       "      <td>2.0</td>\n",
       "      <td>2.000000</td>\n",
       "    </tr>\n",
       "    <tr>\n",
       "      <th>3</th>\n",
       "      <td>010R</td>\n",
       "      <td>010R</td>\n",
       "      <td>2021-06-04</td>\n",
       "      <td>2</td>\n",
       "      <td>5</td>\n",
       "      <td>27.0</td>\n",
       "      <td>193.175000</td>\n",
       "      <td>2.0</td>\n",
       "      <td>2.900000</td>\n",
       "    </tr>\n",
       "    <tr>\n",
       "      <th>4</th>\n",
       "      <td>010R</td>\n",
       "      <td>010R</td>\n",
       "      <td>2021-06-05</td>\n",
       "      <td>1</td>\n",
       "      <td>2</td>\n",
       "      <td>2.0</td>\n",
       "      <td>2.000000</td>\n",
       "      <td>0.0</td>\n",
       "      <td>0.000000</td>\n",
       "    </tr>\n",
       "  </tbody>\n",
       "</table>\n",
       "</div>"
      ],
      "text/plain": [
       "  srcsitecode destsitecode       date1  batch_cnt  route_cnt  votes  \\\n",
       "0        010R         010R  2021-06-01          2          4   10.0   \n",
       "1        010R         010R  2021-06-02          2          3    4.0   \n",
       "2        010R         010R  2021-06-03          2          4   15.0   \n",
       "3        010R         010R  2021-06-04          2          5   27.0   \n",
       "4        010R         010R  2021-06-05          1          2    2.0   \n",
       "\n",
       "      weights  air_votes  air_weights  \n",
       "0  122.500000        2.0     4.166667  \n",
       "1   32.500000        0.0     0.000000  \n",
       "2  102.416667        2.0     2.000000  \n",
       "3  193.175000        2.0     2.900000  \n",
       "4    2.000000        0.0     0.000000  "
      ]
     },
     "execution_count": 7,
     "metadata": {},
     "output_type": "execute_result"
    }
   ],
   "source": [
    "od = pd.read_pickle('./data_clean/od.p');od.head(5)\n",
    "\"\"\"\n",
    "只搞了10天的,   历史到件量的场地不是每个都需要考虑的吧 集货OD对应的场地应该只有400出头 场地数据基本能覆盖的\n",
    "\"\"\""
   ]
  },
  {
   "cell_type": "code",
   "execution_count": null,
   "metadata": {},
   "outputs": [],
   "source": [
    "[prc_in[(prc_in['date1'] == '2021-06-08') & (prc_in['destsitecode'] == '552W')].sum(),\n",
    "prc_in[(prc_in['date1'] == '2021-06-04') & (prc_in['srcsitecode'] == '552W')].sum()]"
   ]
  },
  {
   "cell_type": "code",
   "execution_count": null,
   "metadata": {},
   "outputs": [],
   "source": [
    "# prc_in.head()\n",
    "\n",
    "od = prc_in.groupby(['srcsitecode','destsitecode', 'date1']).agg(\n",
    "    batch_cnt = ('srcbatchcode', 'nunique'),\n",
    "    route_cnt = ('route_code', 'nunique'),\n",
    "    votes = ('votes', sum),\n",
    "    weights = ('weight1', sum),\n",
    "    air_votes =('air_votes', sum),\n",
    "    air_weights = ('air_weight1', sum)\n",
    ").reset_index()"
   ]
  },
  {
   "cell_type": "code",
   "execution_count": null,
   "metadata": {},
   "outputs": [],
   "source": [
    "# od.to_pickle('./data_clean/od.p')"
   ]
  },
  {
   "cell_type": "code",
   "execution_count": null,
   "metadata": {},
   "outputs": [],
   "source": [
    "# hist_arr[hist_arr['a.report_dt'] == '2021-06-01'].sort_values('a.zonecode')"
   ]
  },
  {
   "cell_type": "code",
   "execution_count": 21,
   "metadata": {},
   "outputs": [
    {
     "data": {
      "text/plain": [
       "[array(['2021-06-01', '2021-06-02', '2021-06-03', '2021-06-04',\n",
       "        '2021-06-05', '2021-06-06', '2021-06-07', '2021-06-08',\n",
       "        '2021-06-09', '2021-06-10'], dtype=object),\n",
       " '2021-06-10']"
      ]
     },
     "execution_count": 21,
     "metadata": {},
     "output_type": "execute_result"
    }
   ],
   "source": [
    "[od.date1.unique(), od.date1.max()]"
   ]
  },
  {
   "cell_type": "code",
   "execution_count": null,
   "metadata": {},
   "outputs": [],
   "source": [
    "od_src = od[['srcsitecode','date1', 'batch_cnt', 'route_cnt',\n",
    "       'votes', 'weights', 'air_votes', 'air_weights']]"
   ]
  },
  {
   "cell_type": "markdown",
   "metadata": {},
   "source": [
    "---\n",
    "\n",
    "# hist"
   ]
  },
  {
   "cell_type": "code",
   "execution_count": 42,
   "metadata": {},
   "outputs": [
    {
     "data": {
      "text/html": [
       "<div>\n",
       "<style scoped>\n",
       "    .dataframe tbody tr th:only-of-type {\n",
       "        vertical-align: middle;\n",
       "    }\n",
       "\n",
       "    .dataframe tbody tr th {\n",
       "        vertical-align: top;\n",
       "    }\n",
       "\n",
       "    .dataframe thead th {\n",
       "        text-align: right;\n",
       "    }\n",
       "</style>\n",
       "<table border=\"1\" class=\"dataframe\">\n",
       "  <thead>\n",
       "    <tr style=\"text-align: right;\">\n",
       "      <th></th>\n",
       "      <th>a.report_dt</th>\n",
       "      <th>a.zonecode</th>\n",
       "      <th>all_arr_waybill</th>\n",
       "      <th>all_arr_weight</th>\n",
       "      <th>simu_arr_waybill</th>\n",
       "      <th>simu_arr_weight</th>\n",
       "    </tr>\n",
       "  </thead>\n",
       "  <tbody>\n",
       "    <tr>\n",
       "      <th>35110</th>\n",
       "      <td>2021-06-04</td>\n",
       "      <td>552W</td>\n",
       "      <td>175334</td>\n",
       "      <td>472758.782153</td>\n",
       "      <td>6500</td>\n",
       "      <td>13488.254667</td>\n",
       "    </tr>\n",
       "  </tbody>\n",
       "</table>\n",
       "</div>"
      ],
      "text/plain": [
       "      a.report_dt a.zonecode  all_arr_waybill  all_arr_weight  \\\n",
       "35110  2021-06-04       552W           175334   472758.782153   \n",
       "\n",
       "       simu_arr_waybill  simu_arr_weight  \n",
       "35110              6500     13488.254667  "
      ]
     },
     "execution_count": 42,
     "metadata": {},
     "output_type": "execute_result"
    }
   ],
   "source": [
    "hist_arr[(hist_arr['a.zonecode'] == '552W') & ( hist_arr['a.report_dt'] == '2021-06-04' )]"
   ]
  },
  {
   "cell_type": "markdown",
   "metadata": {},
   "source": [
    "# hist_arr.to_pickle('./data_clean/hist_arr.p')\n",
    "# merge all"
   ]
  },
  {
   "cell_type": "code",
   "execution_count": 10,
   "metadata": {},
   "outputs": [
    {
     "data": {
      "text/html": [
       "<div>\n",
       "<style scoped>\n",
       "    .dataframe tbody tr th:only-of-type {\n",
       "        vertical-align: middle;\n",
       "    }\n",
       "\n",
       "    .dataframe tbody tr th {\n",
       "        vertical-align: top;\n",
       "    }\n",
       "\n",
       "    .dataframe thead th {\n",
       "        text-align: right;\n",
       "    }\n",
       "</style>\n",
       "<table border=\"1\" class=\"dataframe\">\n",
       "  <thead>\n",
       "    <tr style=\"text-align: right;\">\n",
       "      <th></th>\n",
       "      <th>a.report_dt</th>\n",
       "      <th>a.zonecode</th>\n",
       "      <th>all_arr_waybill</th>\n",
       "      <th>all_arr_weight</th>\n",
       "      <th>simu_arr_waybill</th>\n",
       "      <th>simu_arr_weight</th>\n",
       "    </tr>\n",
       "  </thead>\n",
       "  <tbody>\n",
       "    <tr>\n",
       "      <th>0</th>\n",
       "      <td>2021-06-08</td>\n",
       "      <td>010CC006</td>\n",
       "      <td>525</td>\n",
       "      <td>1280.400000</td>\n",
       "      <td>0</td>\n",
       "      <td>0.000000</td>\n",
       "    </tr>\n",
       "    <tr>\n",
       "      <th>1</th>\n",
       "      <td>2021-06-08</td>\n",
       "      <td>010CC007</td>\n",
       "      <td>0</td>\n",
       "      <td>0.000000</td>\n",
       "      <td>0</td>\n",
       "      <td>0.000000</td>\n",
       "    </tr>\n",
       "    <tr>\n",
       "      <th>2</th>\n",
       "      <td>2021-06-08</td>\n",
       "      <td>010R</td>\n",
       "      <td>102944</td>\n",
       "      <td>230415.243664</td>\n",
       "      <td>76818</td>\n",
       "      <td>165515.803556</td>\n",
       "    </tr>\n",
       "    <tr>\n",
       "      <th>3</th>\n",
       "      <td>2021-06-08</td>\n",
       "      <td>010RA</td>\n",
       "      <td>109154</td>\n",
       "      <td>249089.557278</td>\n",
       "      <td>109154</td>\n",
       "      <td>249089.557278</td>\n",
       "    </tr>\n",
       "    <tr>\n",
       "      <th>4</th>\n",
       "      <td>2021-06-08</td>\n",
       "      <td>010RG</td>\n",
       "      <td>119183</td>\n",
       "      <td>261849.663955</td>\n",
       "      <td>118678</td>\n",
       "      <td>260439.168955</td>\n",
       "    </tr>\n",
       "  </tbody>\n",
       "</table>\n",
       "</div>"
      ],
      "text/plain": [
       "  a.report_dt a.zonecode  all_arr_waybill  all_arr_weight  simu_arr_waybill  \\\n",
       "0  2021-06-08   010CC006              525     1280.400000                 0   \n",
       "1  2021-06-08   010CC007                0        0.000000                 0   \n",
       "2  2021-06-08       010R           102944   230415.243664             76818   \n",
       "3  2021-06-08      010RA           109154   249089.557278            109154   \n",
       "4  2021-06-08      010RG           119183   261849.663955            118678   \n",
       "\n",
       "   simu_arr_weight  \n",
       "0         0.000000  \n",
       "1         0.000000  \n",
       "2    165515.803556  \n",
       "3    249089.557278  \n",
       "4    260439.168955  "
      ]
     },
     "execution_count": 10,
     "metadata": {},
     "output_type": "execute_result"
    }
   ],
   "source": [
    "hist_arr = pd.read_pickle('./data_clean/hist_arr.p')\n",
    "hist_arr.head()"
   ]
  },
  {
   "cell_type": "code",
   "execution_count": 24,
   "metadata": {},
   "outputs": [],
   "source": [
    "hist_arr_part = hist_arr[hist_arr['a.report_dt'] < '2021-06-11']"
   ]
  },
  {
   "cell_type": "code",
   "execution_count": 31,
   "metadata": {},
   "outputs": [
    {
     "data": {
      "text/html": [
       "<div>\n",
       "<style scoped>\n",
       "    .dataframe tbody tr th:only-of-type {\n",
       "        vertical-align: middle;\n",
       "    }\n",
       "\n",
       "    .dataframe tbody tr th {\n",
       "        vertical-align: top;\n",
       "    }\n",
       "\n",
       "    .dataframe thead th {\n",
       "        text-align: right;\n",
       "    }\n",
       "</style>\n",
       "<table border=\"1\" class=\"dataframe\">\n",
       "  <thead>\n",
       "    <tr style=\"text-align: right;\">\n",
       "      <th></th>\n",
       "      <th>destsitecode</th>\n",
       "      <th>date1</th>\n",
       "      <th>batch_cnt</th>\n",
       "      <th>route_cnt</th>\n",
       "      <th>votes</th>\n",
       "      <th>weights</th>\n",
       "      <th>air_votes</th>\n",
       "      <th>air_weights</th>\n",
       "    </tr>\n",
       "  </thead>\n",
       "  <tbody>\n",
       "    <tr>\n",
       "      <th>0</th>\n",
       "      <td>010R</td>\n",
       "      <td>2021-06-01</td>\n",
       "      <td>9</td>\n",
       "      <td>11</td>\n",
       "      <td>16.0</td>\n",
       "      <td>140.800000</td>\n",
       "      <td>4.0</td>\n",
       "      <td>33.666667</td>\n",
       "    </tr>\n",
       "    <tr>\n",
       "      <th>1</th>\n",
       "      <td>010R</td>\n",
       "      <td>2021-06-02</td>\n",
       "      <td>7</td>\n",
       "      <td>8</td>\n",
       "      <td>8.0</td>\n",
       "      <td>34.600000</td>\n",
       "      <td>2.0</td>\n",
       "      <td>32.500000</td>\n",
       "    </tr>\n",
       "    <tr>\n",
       "      <th>2</th>\n",
       "      <td>010R</td>\n",
       "      <td>2021-06-03</td>\n",
       "      <td>8</td>\n",
       "      <td>10</td>\n",
       "      <td>17.0</td>\n",
       "      <td>106.216667</td>\n",
       "      <td>6.0</td>\n",
       "      <td>12.400000</td>\n",
       "    </tr>\n",
       "    <tr>\n",
       "      <th>3</th>\n",
       "      <td>010R</td>\n",
       "      <td>2021-06-04</td>\n",
       "      <td>4</td>\n",
       "      <td>7</td>\n",
       "      <td>28.0</td>\n",
       "      <td>194.175000</td>\n",
       "      <td>3.0</td>\n",
       "      <td>10.400000</td>\n",
       "    </tr>\n",
       "    <tr>\n",
       "      <th>4</th>\n",
       "      <td>010R</td>\n",
       "      <td>2021-06-05</td>\n",
       "      <td>5</td>\n",
       "      <td>6</td>\n",
       "      <td>7.0</td>\n",
       "      <td>15.333333</td>\n",
       "      <td>1.0</td>\n",
       "      <td>13.000000</td>\n",
       "    </tr>\n",
       "    <tr>\n",
       "      <th>...</th>\n",
       "      <td>...</td>\n",
       "      <td>...</td>\n",
       "      <td>...</td>\n",
       "      <td>...</td>\n",
       "      <td>...</td>\n",
       "      <td>...</td>\n",
       "      <td>...</td>\n",
       "      <td>...</td>\n",
       "    </tr>\n",
       "    <tr>\n",
       "      <th>4898</th>\n",
       "      <td>SIN01R</td>\n",
       "      <td>2021-06-06</td>\n",
       "      <td>141</td>\n",
       "      <td>104</td>\n",
       "      <td>0.0</td>\n",
       "      <td>0.000000</td>\n",
       "      <td>285.0</td>\n",
       "      <td>1264.000000</td>\n",
       "    </tr>\n",
       "    <tr>\n",
       "      <th>4899</th>\n",
       "      <td>SIN01R</td>\n",
       "      <td>2021-06-07</td>\n",
       "      <td>265</td>\n",
       "      <td>167</td>\n",
       "      <td>0.0</td>\n",
       "      <td>0.000000</td>\n",
       "      <td>950.0</td>\n",
       "      <td>4844.884615</td>\n",
       "    </tr>\n",
       "    <tr>\n",
       "      <th>4900</th>\n",
       "      <td>SIN01R</td>\n",
       "      <td>2021-06-08</td>\n",
       "      <td>256</td>\n",
       "      <td>157</td>\n",
       "      <td>0.0</td>\n",
       "      <td>0.000000</td>\n",
       "      <td>923.0</td>\n",
       "      <td>3888.000000</td>\n",
       "    </tr>\n",
       "    <tr>\n",
       "      <th>4901</th>\n",
       "      <td>SIN01R</td>\n",
       "      <td>2021-06-09</td>\n",
       "      <td>242</td>\n",
       "      <td>150</td>\n",
       "      <td>0.0</td>\n",
       "      <td>0.000000</td>\n",
       "      <td>933.0</td>\n",
       "      <td>4632.535556</td>\n",
       "    </tr>\n",
       "    <tr>\n",
       "      <th>4902</th>\n",
       "      <td>SIN01R</td>\n",
       "      <td>2021-06-10</td>\n",
       "      <td>278</td>\n",
       "      <td>176</td>\n",
       "      <td>0.0</td>\n",
       "      <td>0.000000</td>\n",
       "      <td>952.0</td>\n",
       "      <td>4546.200000</td>\n",
       "    </tr>\n",
       "  </tbody>\n",
       "</table>\n",
       "<p>4903 rows × 8 columns</p>\n",
       "</div>"
      ],
      "text/plain": [
       "     destsitecode       date1  batch_cnt  route_cnt  votes     weights  \\\n",
       "0            010R  2021-06-01          9         11   16.0  140.800000   \n",
       "1            010R  2021-06-02          7          8    8.0   34.600000   \n",
       "2            010R  2021-06-03          8         10   17.0  106.216667   \n",
       "3            010R  2021-06-04          4          7   28.0  194.175000   \n",
       "4            010R  2021-06-05          5          6    7.0   15.333333   \n",
       "...           ...         ...        ...        ...    ...         ...   \n",
       "4898       SIN01R  2021-06-06        141        104    0.0    0.000000   \n",
       "4899       SIN01R  2021-06-07        265        167    0.0    0.000000   \n",
       "4900       SIN01R  2021-06-08        256        157    0.0    0.000000   \n",
       "4901       SIN01R  2021-06-09        242        150    0.0    0.000000   \n",
       "4902       SIN01R  2021-06-10        278        176    0.0    0.000000   \n",
       "\n",
       "      air_votes  air_weights  \n",
       "0           4.0    33.666667  \n",
       "1           2.0    32.500000  \n",
       "2           6.0    12.400000  \n",
       "3           3.0    10.400000  \n",
       "4           1.0    13.000000  \n",
       "...         ...          ...  \n",
       "4898      285.0  1264.000000  \n",
       "4899      950.0  4844.884615  \n",
       "4900      923.0  3888.000000  \n",
       "4901      933.0  4632.535556  \n",
       "4902      952.0  4546.200000  \n",
       "\n",
       "[4903 rows x 8 columns]"
      ]
     },
     "execution_count": 31,
     "metadata": {},
     "output_type": "execute_result"
    }
   ],
   "source": [
    "od_dest = od.groupby(['destsitecode', 'date1']).agg(\n",
    "    {'batch_cnt': sum, \n",
    "    'route_cnt': sum,\n",
    "    'votes': sum, \n",
    "    'weights': sum,\n",
    "    'air_votes': sum, \n",
    "    'air_weights':sum\n",
    "    }).reset_index();od_dest"
   ]
  },
  {
   "cell_type": "code",
   "execution_count": 37,
   "metadata": {},
   "outputs": [
    {
     "data": {
      "text/plain": [
       "4903"
      ]
     },
     "execution_count": 37,
     "metadata": {},
     "output_type": "execute_result"
    }
   ],
   "source": [
    "hist_od_part = hist_arr_part.merge(\n",
    "    od_dest, \n",
    "    left_on = ['a.report_dt', 'a.zonecode'], \n",
    "    right_on = ['date1', 'destsitecode'], validate = 'one_to_one', how = 'right'); len(hist_od_part)\n",
    "\n",
    "hist_od_part = hist_od_part.drop(['a.report_dt','a.zonecode'], axis =1 )"
   ]
  },
  {
   "cell_type": "code",
   "execution_count": 44,
   "metadata": {},
   "outputs": [
    {
     "data": {
      "text/html": [
       "<div>\n",
       "<style scoped>\n",
       "    .dataframe tbody tr th:only-of-type {\n",
       "        vertical-align: middle;\n",
       "    }\n",
       "\n",
       "    .dataframe tbody tr th {\n",
       "        vertical-align: top;\n",
       "    }\n",
       "\n",
       "    .dataframe thead th {\n",
       "        text-align: right;\n",
       "    }\n",
       "</style>\n",
       "<table border=\"1\" class=\"dataframe\">\n",
       "  <thead>\n",
       "    <tr style=\"text-align: right;\">\n",
       "      <th></th>\n",
       "      <th>all_arr_waybill</th>\n",
       "      <th>all_arr_weight</th>\n",
       "      <th>simu_arr_waybill</th>\n",
       "      <th>simu_arr_weight</th>\n",
       "      <th>destsitecode</th>\n",
       "      <th>date1</th>\n",
       "      <th>batch_cnt</th>\n",
       "      <th>route_cnt</th>\n",
       "      <th>votes</th>\n",
       "      <th>weights</th>\n",
       "      <th>air_votes</th>\n",
       "      <th>air_weights</th>\n",
       "    </tr>\n",
       "  </thead>\n",
       "  <tbody>\n",
       "    <tr>\n",
       "      <th>0</th>\n",
       "      <td>117528.0</td>\n",
       "      <td>237472.306251</td>\n",
       "      <td>85223.0</td>\n",
       "      <td>165893.494172</td>\n",
       "      <td>010R</td>\n",
       "      <td>2021-06-01</td>\n",
       "      <td>9</td>\n",
       "      <td>11</td>\n",
       "      <td>16.0</td>\n",
       "      <td>140.800000</td>\n",
       "      <td>4.0</td>\n",
       "      <td>33.666667</td>\n",
       "    </tr>\n",
       "    <tr>\n",
       "      <th>1</th>\n",
       "      <td>114545.0</td>\n",
       "      <td>242443.357334</td>\n",
       "      <td>81537.0</td>\n",
       "      <td>168838.271100</td>\n",
       "      <td>010R</td>\n",
       "      <td>2021-06-02</td>\n",
       "      <td>7</td>\n",
       "      <td>8</td>\n",
       "      <td>8.0</td>\n",
       "      <td>34.600000</td>\n",
       "      <td>2.0</td>\n",
       "      <td>32.500000</td>\n",
       "    </tr>\n",
       "    <tr>\n",
       "      <th>2</th>\n",
       "      <td>97133.0</td>\n",
       "      <td>214623.247696</td>\n",
       "      <td>70183.0</td>\n",
       "      <td>152144.916293</td>\n",
       "      <td>010R</td>\n",
       "      <td>2021-06-03</td>\n",
       "      <td>8</td>\n",
       "      <td>10</td>\n",
       "      <td>17.0</td>\n",
       "      <td>106.216667</td>\n",
       "      <td>6.0</td>\n",
       "      <td>12.400000</td>\n",
       "    </tr>\n",
       "    <tr>\n",
       "      <th>3</th>\n",
       "      <td>102903.0</td>\n",
       "      <td>224132.253492</td>\n",
       "      <td>74137.0</td>\n",
       "      <td>155885.942530</td>\n",
       "      <td>010R</td>\n",
       "      <td>2021-06-04</td>\n",
       "      <td>4</td>\n",
       "      <td>7</td>\n",
       "      <td>28.0</td>\n",
       "      <td>194.175000</td>\n",
       "      <td>3.0</td>\n",
       "      <td>10.400000</td>\n",
       "    </tr>\n",
       "    <tr>\n",
       "      <th>4</th>\n",
       "      <td>64644.0</td>\n",
       "      <td>150821.001720</td>\n",
       "      <td>48298.0</td>\n",
       "      <td>106059.225291</td>\n",
       "      <td>010R</td>\n",
       "      <td>2021-06-05</td>\n",
       "      <td>5</td>\n",
       "      <td>6</td>\n",
       "      <td>7.0</td>\n",
       "      <td>15.333333</td>\n",
       "      <td>1.0</td>\n",
       "      <td>13.000000</td>\n",
       "    </tr>\n",
       "    <tr>\n",
       "      <th>...</th>\n",
       "      <td>...</td>\n",
       "      <td>...</td>\n",
       "      <td>...</td>\n",
       "      <td>...</td>\n",
       "      <td>...</td>\n",
       "      <td>...</td>\n",
       "      <td>...</td>\n",
       "      <td>...</td>\n",
       "      <td>...</td>\n",
       "      <td>...</td>\n",
       "      <td>...</td>\n",
       "      <td>...</td>\n",
       "    </tr>\n",
       "    <tr>\n",
       "      <th>4898</th>\n",
       "      <td>8165.0</td>\n",
       "      <td>29186.366667</td>\n",
       "      <td>8165.0</td>\n",
       "      <td>29186.366667</td>\n",
       "      <td>SIN01R</td>\n",
       "      <td>2021-06-06</td>\n",
       "      <td>141</td>\n",
       "      <td>104</td>\n",
       "      <td>0.0</td>\n",
       "      <td>0.000000</td>\n",
       "      <td>285.0</td>\n",
       "      <td>1264.000000</td>\n",
       "    </tr>\n",
       "    <tr>\n",
       "      <th>4899</th>\n",
       "      <td>NaN</td>\n",
       "      <td>NaN</td>\n",
       "      <td>NaN</td>\n",
       "      <td>NaN</td>\n",
       "      <td>SIN01R</td>\n",
       "      <td>2021-06-07</td>\n",
       "      <td>265</td>\n",
       "      <td>167</td>\n",
       "      <td>0.0</td>\n",
       "      <td>0.000000</td>\n",
       "      <td>950.0</td>\n",
       "      <td>4844.884615</td>\n",
       "    </tr>\n",
       "    <tr>\n",
       "      <th>4900</th>\n",
       "      <td>139.0</td>\n",
       "      <td>794.960000</td>\n",
       "      <td>139.0</td>\n",
       "      <td>794.960000</td>\n",
       "      <td>SIN01R</td>\n",
       "      <td>2021-06-08</td>\n",
       "      <td>256</td>\n",
       "      <td>157</td>\n",
       "      <td>0.0</td>\n",
       "      <td>0.000000</td>\n",
       "      <td>923.0</td>\n",
       "      <td>3888.000000</td>\n",
       "    </tr>\n",
       "    <tr>\n",
       "      <th>4901</th>\n",
       "      <td>1614.0</td>\n",
       "      <td>3380.180000</td>\n",
       "      <td>1614.0</td>\n",
       "      <td>3380.180000</td>\n",
       "      <td>SIN01R</td>\n",
       "      <td>2021-06-09</td>\n",
       "      <td>242</td>\n",
       "      <td>150</td>\n",
       "      <td>0.0</td>\n",
       "      <td>0.000000</td>\n",
       "      <td>933.0</td>\n",
       "      <td>4632.535556</td>\n",
       "    </tr>\n",
       "    <tr>\n",
       "      <th>4902</th>\n",
       "      <td>1139.0</td>\n",
       "      <td>2527.900000</td>\n",
       "      <td>1139.0</td>\n",
       "      <td>2527.900000</td>\n",
       "      <td>SIN01R</td>\n",
       "      <td>2021-06-10</td>\n",
       "      <td>278</td>\n",
       "      <td>176</td>\n",
       "      <td>0.0</td>\n",
       "      <td>0.000000</td>\n",
       "      <td>952.0</td>\n",
       "      <td>4546.200000</td>\n",
       "    </tr>\n",
       "  </tbody>\n",
       "</table>\n",
       "<p>4903 rows × 12 columns</p>\n",
       "</div>"
      ],
      "text/plain": [
       "      all_arr_waybill  all_arr_weight  simu_arr_waybill  simu_arr_weight  \\\n",
       "0            117528.0   237472.306251           85223.0    165893.494172   \n",
       "1            114545.0   242443.357334           81537.0    168838.271100   \n",
       "2             97133.0   214623.247696           70183.0    152144.916293   \n",
       "3            102903.0   224132.253492           74137.0    155885.942530   \n",
       "4             64644.0   150821.001720           48298.0    106059.225291   \n",
       "...               ...             ...               ...              ...   \n",
       "4898           8165.0    29186.366667            8165.0     29186.366667   \n",
       "4899              NaN             NaN               NaN              NaN   \n",
       "4900            139.0      794.960000             139.0       794.960000   \n",
       "4901           1614.0     3380.180000            1614.0      3380.180000   \n",
       "4902           1139.0     2527.900000            1139.0      2527.900000   \n",
       "\n",
       "     destsitecode       date1  batch_cnt  route_cnt  votes     weights  \\\n",
       "0            010R  2021-06-01          9         11   16.0  140.800000   \n",
       "1            010R  2021-06-02          7          8    8.0   34.600000   \n",
       "2            010R  2021-06-03          8         10   17.0  106.216667   \n",
       "3            010R  2021-06-04          4          7   28.0  194.175000   \n",
       "4            010R  2021-06-05          5          6    7.0   15.333333   \n",
       "...           ...         ...        ...        ...    ...         ...   \n",
       "4898       SIN01R  2021-06-06        141        104    0.0    0.000000   \n",
       "4899       SIN01R  2021-06-07        265        167    0.0    0.000000   \n",
       "4900       SIN01R  2021-06-08        256        157    0.0    0.000000   \n",
       "4901       SIN01R  2021-06-09        242        150    0.0    0.000000   \n",
       "4902       SIN01R  2021-06-10        278        176    0.0    0.000000   \n",
       "\n",
       "      air_votes  air_weights  \n",
       "0           4.0    33.666667  \n",
       "1           2.0    32.500000  \n",
       "2           6.0    12.400000  \n",
       "3           3.0    10.400000  \n",
       "4           1.0    13.000000  \n",
       "...         ...          ...  \n",
       "4898      285.0  1264.000000  \n",
       "4899      950.0  4844.884615  \n",
       "4900      923.0  3888.000000  \n",
       "4901      933.0  4632.535556  \n",
       "4902      952.0  4546.200000  \n",
       "\n",
       "[4903 rows x 12 columns]"
      ]
     },
     "execution_count": 44,
     "metadata": {},
     "output_type": "execute_result"
    }
   ],
   "source": [
    "hist_od_part"
   ]
  },
  {
   "cell_type": "code",
   "execution_count": 46,
   "metadata": {},
   "outputs": [],
   "source": [
    "train = task_loc.merge(hist_od_part, \\\n",
    "    left_on = ['operate_zone_code', 'batch_date'], right_on=['destsitecode', 'date1'], \n",
    "    validate = 'one_to_one',\n",
    "    how = 'right')"
   ]
  },
  {
   "cell_type": "code",
   "execution_count": 53,
   "metadata": {},
   "outputs": [],
   "source": [
    "# del od, task_loc, hist_arr\n",
    "# del task_loc_nulled, task_loc_valued\n",
    "# # [len(task_loc), len(train), len(od)]"
   ]
  },
  {
   "cell_type": "markdown",
   "metadata": {},
   "source": [
    "---\n",
    "# transport\n"
   ]
  },
  {
   "cell_type": "code",
   "execution_count": 54,
   "metadata": {},
   "outputs": [
    {
     "ename": "NameError",
     "evalue": "name 'trans' is not defined",
     "output_type": "error",
     "traceback": [
      "\u001b[1;31m---------------------------------------------------------------------------\u001b[0m",
      "\u001b[1;31mNameError\u001b[0m                                 Traceback (most recent call last)",
      "\u001b[1;32mC:\\Users\\DSCSHA~1\\AppData\\Local\\Temp/ipykernel_22036/3585916729.py\u001b[0m in \u001b[0;36m<module>\u001b[1;34m\u001b[0m\n\u001b[1;32m----> 1\u001b[1;33m \u001b[0mtrans\u001b[0m\u001b[1;33m.\u001b[0m\u001b[0mhead\u001b[0m\u001b[1;33m(\u001b[0m\u001b[1;36m2\u001b[0m\u001b[1;33m)\u001b[0m\u001b[1;33m\u001b[0m\u001b[1;33m\u001b[0m\u001b[0m\n\u001b[0m",
      "\u001b[1;31mNameError\u001b[0m: name 'trans' is not defined"
     ]
    }
   ],
   "source": [
    "trans.head(2)"
   ]
  },
  {
   "cell_type": "code",
   "execution_count": null,
   "metadata": {},
   "outputs": [],
   "source": [
    "trans.iloc[11,:]['passZoneCodes'][0]"
   ]
  },
  {
   "cell_type": "code",
   "execution_count": null,
   "metadata": {},
   "outputs": [],
   "source": [
    "trans.iloc[11,:]['taskInfos'][0] # ['unloadZone']"
   ]
  },
  {
   "cell_type": "code",
   "execution_count": null,
   "metadata": {},
   "outputs": [],
   "source": [
    "trans.iloc[1,:]['vehicleInfos'][0] # ['unloadZone']"
   ]
  },
  {
   "cell_type": "markdown",
   "metadata": {},
   "source": [
    "---"
   ]
  },
  {
   "cell_type": "code",
   "execution_count": 55,
   "metadata": {},
   "outputs": [
    {
     "data": {
      "text/plain": [
       "'c:\\\\Users\\\\dscshap3808\\\\Documents\\\\my_scripts_new\\\\play7_comp'"
      ]
     },
     "execution_count": 55,
     "metadata": {},
     "output_type": "execute_result"
    }
   ],
   "source": [
    "import os\n",
    "import pandas as pd\n",
    "import numpy as np\n",
    "import re \n",
    "\n",
    "from mlxtend.regressor import StackingRegressor\n",
    "\n",
    "from sklearn.linear_model import LinearRegression\n",
    "from sklearn.linear_model import Ridge\n",
    "\n",
    "from sklearn.ensemble import RandomForestRegressor\n",
    "from sklearn.ensemble import AdaBoostRegressor\n",
    "from sklearn.ensemble import GradientBoostingRegressor\n",
    "os.getcwd()"
   ]
  }
 ],
 "metadata": {
  "interpreter": {
   "hash": "47b50d2908d96196e4220cfb4e81faa93803065ea975497e7026f672c1f58470"
  },
  "kernelspec": {
   "display_name": "Python 3.8.8 64-bit ('siming': conda)",
   "name": "python3"
  },
  "language_info": {
   "codemirror_mode": {
    "name": "ipython",
    "version": 3
   },
   "file_extension": ".py",
   "mimetype": "text/x-python",
   "name": "python",
   "nbconvert_exporter": "python",
   "pygments_lexer": "ipython3",
   "version": "3.8.8"
  },
  "orig_nbformat": 4
 },
 "nbformat": 4,
 "nbformat_minor": 2
}
