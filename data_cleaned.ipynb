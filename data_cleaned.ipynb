{
 "cells": [
  {
   "cell_type": "code",
   "execution_count": 141,
   "metadata": {},
   "outputs": [
    {
     "data": {
      "text/plain": [
       "['OD集货量',\n",
       " '中转场历史到件量0301至0531.csv',\n",
       " '中转场历史到件量0601至0831.csv',\n",
       " '场地数据.csv',\n",
       " '班次数据0601至0831.csv',\n",
       " '运力配载数据0601至0831']"
      ]
     },
     "execution_count": 141,
     "metadata": {},
     "output_type": "execute_result"
    }
   ],
   "source": [
    "import pandas as pd\n",
    "import os\n",
    "# import seaborn as sns\n",
    "import numpy as np\n",
    "import re\n",
    "from datetime import datetime\n",
    "import seaborn as sns\n",
    "import matplotlib.pyplot as plt\n",
    "path = './' + 'data/'\n",
    "os.listdir(path)\n",
    "# os.cpu_count()"
   ]
  },
  {
   "cell_type": "code",
   "execution_count": 143,
   "metadata": {},
   "outputs": [
    {
     "name": "stdout",
     "output_type": "stream",
     "text": [
      "Wall time: 0 ns\n"
     ]
    }
   ],
   "source": [
    "# # %%time\n",
    "# trans = pd.read_json('./data/运力配载数据0601至0831/line_info_0601.json', lines=True)  # 36.2 sec\n",
    "# hist_arr = pd.read_csv(path + '中转场历史到件量0601至0831.csv')\n",
    "# loc = pd.read_csv(path + '场地数据.csv')\n",
    "# # # loc.to_csv(path + '场地数据.csv', index = None, encoding='utf_8_sig')\n",
    "# # task_arrange = pd.read_csv(path + '班次数据0601至0831.csv')\n",
    "\n",
    "\n",
    "# path_od = path + 'OD集货量/sep/'   \n",
    "# dfs = pd.DataFrame()\n",
    "# for fname in os.listdir(path_od):\n",
    "#     if re.search(r'\\.csv$', fname):\n",
    "#         dfs = pd.concat(\n",
    "#             [dfs , pd.read_csv(path_od + fname)], axis = 0, ignore_index = True)\n",
    "# prc_in = pd.DataFrame(dfs) \n",
    "# print(\n",
    "#     'loc:', loc.shape, '\\nhist:' ,\n",
    "#     hist_arr.shape, '\\ntask:',\n",
    "#     task_arrange.shape, '\\nod:' ,\n",
    "#     dfs.shape)"
   ]
  },
  {
   "cell_type": "code",
   "execution_count": 61,
   "metadata": {},
   "outputs": [],
   "source": [
    "# task_loc = pd.read_pickle('./data_clean/task_loc.p')"
   ]
  },
  {
   "cell_type": "markdown",
   "metadata": {},
   "source": [
    "---\n",
    "\n",
    "# Loc table clean  "
   ]
  },
  {
   "cell_type": "code",
   "execution_count": 2,
   "metadata": {},
   "outputs": [
    {
     "data": {
      "text/plain": [
       "(444, 21)"
      ]
     },
     "execution_count": 2,
     "metadata": {},
     "output_type": "execute_result"
    }
   ],
   "source": [
    "loc = pd.read_pickle('./data_clean/loc.p'); loc.shape"
   ]
  },
  {
   "cell_type": "code",
   "execution_count": 168,
   "metadata": {},
   "outputs": [
    {
     "data": {
      "text/html": [
       "<div>\n",
       "<style scoped>\n",
       "    .dataframe tbody tr th:only-of-type {\n",
       "        vertical-align: middle;\n",
       "    }\n",
       "\n",
       "    .dataframe tbody tr th {\n",
       "        vertical-align: top;\n",
       "    }\n",
       "\n",
       "    .dataframe thead th {\n",
       "        text-align: right;\n",
       "    }\n",
       "</style>\n",
       "<table border=\"1\" class=\"dataframe\">\n",
       "  <thead>\n",
       "    <tr style=\"text-align: right;\">\n",
       "      <th></th>\n",
       "      <th>场地代码</th>\n",
       "      <th>场地类型</th>\n",
       "      <th>主服务业务区</th>\n",
       "      <th>单小时处理能力</th>\n",
       "      <th>卸货卡位总数</th>\n",
       "      <th>卸车卡位（17.5M）</th>\n",
       "      <th>卸车卡位（&gt;=15M）</th>\n",
       "      <th>卸车卡位（&lt;15M）</th>\n",
       "      <th>装货卡位总数</th>\n",
       "      <th>装车卡位（17.5M）</th>\n",
       "      <th>装车卡位（15M）</th>\n",
       "      <th>装车卡位（13.5M）</th>\n",
       "      <th>装车卡位（9.6M）</th>\n",
       "      <th>装车卡位（7.6M）</th>\n",
       "      <th>装车卡位（5.2M）</th>\n",
       "      <th>off</th>\n",
       "      <th>onn</th>\n",
       "      <th>off_p1</th>\n",
       "      <th>off_p2</th>\n",
       "      <th>onn_p1</th>\n",
       "      <th>onn_p2</th>\n",
       "    </tr>\n",
       "  </thead>\n",
       "  <tbody>\n",
       "    <tr>\n",
       "      <th>205</th>\n",
       "      <td>552W</td>\n",
       "      <td>片区中转场</td>\n",
       "      <td>551Y</td>\n",
       "      <td>21516</td>\n",
       "      <td>12</td>\n",
       "      <td>False</td>\n",
       "      <td>True</td>\n",
       "      <td>True</td>\n",
       "      <td>87</td>\n",
       "      <td>False</td>\n",
       "      <td>True</td>\n",
       "      <td>True</td>\n",
       "      <td>False</td>\n",
       "      <td>False</td>\n",
       "      <td>False</td>\n",
       "      <td>22.77636</td>\n",
       "      <td>28.5</td>\n",
       "      <td>1.89803</td>\n",
       "      <td>0.261797</td>\n",
       "      <td>2.375</td>\n",
       "      <td>0.327586</td>\n",
       "    </tr>\n",
       "  </tbody>\n",
       "</table>\n",
       "</div>"
      ],
      "text/plain": [
       "     场地代码   场地类型 主服务业务区  单小时处理能力  卸货卡位总数  卸车卡位（17.5M）  卸车卡位（>=15M）  \\\n",
       "205  552W  片区中转场   551Y    21516      12        False         True   \n",
       "\n",
       "     卸车卡位（<15M）  装货卡位总数  装车卡位（17.5M）  装车卡位（15M）  装车卡位（13.5M）  装车卡位（9.6M）  \\\n",
       "205        True      87        False       True         True       False   \n",
       "\n",
       "     装车卡位（7.6M）  装车卡位（5.2M）       off   onn   off_p1    off_p2  onn_p1  \\\n",
       "205       False       False  22.77636  28.5  1.89803  0.261797   2.375   \n",
       "\n",
       "       onn_p2  \n",
       "205  0.327586  "
      ]
     },
     "execution_count": 168,
     "metadata": {},
     "output_type": "execute_result"
    }
   ],
   "source": [
    "pd.set_option(\"display.max_rows\", None, \"display.max_columns\", None)\n",
    "loc[loc['场地代码'] == '552W']"
   ]
  },
  {
   "cell_type": "code",
   "execution_count": 171,
   "metadata": {},
   "outputs": [],
   "source": [
    "# loc.columns\n",
    "loc = loc.drop(['所在城市代码','应用场景', '分拨区' , '所在城市名称', '场地名称', '主服务城市','所在区部'], axis = 1) \n",
    "loc[[ '卸车卡位（17.5M）', '卸车卡位（>=15M）', '卸车卡位（<15M）', '装车卡位（17.5M）', '装车卡位（15M）',\n",
    "       '装车卡位（13.5M）', '装车卡位（9.6M）', '装车卡位（7.6M）', '装车卡位（5.2M）']]  = loc[[ '卸车卡位（17.5M）', '卸车卡位（>=15M）', '卸车卡位（<15M）', '装车卡位（17.5M）', '装车卡位（15M）',\n",
    "       '装车卡位（13.5M）', '装车卡位（9.6M）', '装车卡位（7.6M）', '装车卡位（5.2M）']] == 0\n",
    "# loc[['装车卡位（13.5M）', '装车卡位（9.6M）', '装车卡位（7.6M）', '装车卡位（5.2M）']].describe()\n",
    "# loc.head(2)\n",
    "loc['off_1'] = loc['卸车卡位（17.5M）'] * 17.5\n",
    "loc['off_2'] = loc['卸车卡位（>=15M）'] * 15\n",
    "loc['off_3'] = loc['卸车卡位（<15M）'] * (13.5 * 0.970721 + 9.6 * 11.056306 + 7.6 * 2.279279 + 5.2 * 9.826577)/ \\\n",
    "    (0.970721 + 11.056306 + 2.279279 + 9.826577)\n",
    "loc['onn_1'] = loc['装车卡位（17.5M）'] * 17.5\n",
    "loc['onn_2'] = loc['装车卡位（15M）'] * 15\n",
    "loc['onn_3'] = loc['装车卡位（13.5M）'] * 13.5\n",
    "loc['onn_4'] = loc['装车卡位（9.6M）'] * 9.6\n",
    "loc['onn_5'] = loc['装车卡位（7.6M）'] * 7.6\n",
    "loc['onn_6'] = loc['装车卡位（5.2M）'] * 5.2\n",
    "loc['off'] = loc['off_1'] + loc['off_2'] + loc['off_3']\n",
    "loc['onn'] = loc['onn_1'] + loc['onn_2'] + loc['onn_3'] + loc['onn_4'] + loc['onn_5'] + loc['onn_6']\n",
    "loc = loc.drop(['off_1','off_2', 'off_3', 'onn_1', 'onn_2', 'onn_3', 'onn_4', 'onn_5', 'onn_6'], axis = 1)\n",
    "\n",
    "loc['off_p1'] = loc['off']/(loc['卸货卡位总数']+1)\n",
    "loc['off_p2'] = loc['off']/(loc['装货卡位总数']+1)\n",
    "loc['onn_p1'] = loc['onn']/(loc['卸货卡位总数']+1)\n",
    "loc['onn_p2'] = loc['onn']/(loc['装货卡位总数']+1)\n",
    "\n",
    "\n"
   ]
  },
  {
   "cell_type": "code",
   "execution_count": 192,
   "metadata": {},
   "outputs": [],
   "source": [
    "# loc.to_pickle('./data_clean/loc.p')\n",
    "# corr_loc = loc.corr()\n",
    "# corr_loc.style.background_gradient(cmap='coolwarm', axis=None)"
   ]
  },
  {
   "cell_type": "markdown",
   "metadata": {},
   "source": [
    "# Task arrage clean"
   ]
  },
  {
   "cell_type": "code",
   "execution_count": null,
   "metadata": {},
   "outputs": [],
   "source": [
    "# task_arrange[(task_arrange['operate_zone_code'] == '552W') & (task_arrange['batch_date'] == '2021-06-04')]"
   ]
  },
  {
   "cell_type": "code",
   "execution_count": 3,
   "metadata": {},
   "outputs": [],
   "source": [
    "# pd.to_pickle(ta,  './data_clean/task.p')\n",
    "ta = pd.read_pickle('./data_clean/task.p')\n",
    "# task_loc[task_loc['operate_zone_code'] == '010R']"
   ]
  },
  {
   "cell_type": "code",
   "execution_count": null,
   "metadata": {},
   "outputs": [],
   "source": [
    "%%time\n",
    "\n",
    "ta = task_arrange.groupby(['operate_zone_code', 'batch_date']).\\\n",
    "    agg(min_begin = ('plan_begin_tm', min),\n",
    "    max_begin = ('plan_begin_tm', max),\n",
    "    min_end = ('plan_end_tm', min),\n",
    "    max_end = ('plan_end_tm', max),\n",
    "    count = ('batch_code', 'nunique')\n",
    "    \n",
    "    ).reset_index()\n",
    "\n",
    "def convt_min(col):\n",
    "    ta[col] = ta[col].apply(lambda i: datetime.strptime(i,'%H:%M').hour*60 + datetime.strptime(i,'%H:%M').minute)\n",
    "     \n",
    "for i in ['min_begin', 'max_begin', 'min_end','max_end']:\n",
    "    convt_min(i)\n",
    "\n",
    "\n",
    "# ta['time_consume_per_vote'] = (ta['max_end'] - ta['min_begin'])/ta['count']"
   ]
  },
  {
   "cell_type": "code",
   "execution_count": 67,
   "metadata": {},
   "outputs": [
    {
     "data": {
      "text/html": [
       "<style type=\"text/css\">\n",
       "#T_daf24_row0_col0, #T_daf24_row1_col1, #T_daf24_row2_col2, #T_daf24_row3_col3, #T_daf24_row4_col4, #T_daf24_row5_col5 {\n",
       "  background-color: #b40426;\n",
       "  color: #f1f1f1;\n",
       "}\n",
       "#T_daf24_row0_col1, #T_daf24_row1_col0 {\n",
       "  background-color: #d3dbe7;\n",
       "  color: #000000;\n",
       "}\n",
       "#T_daf24_row0_col2, #T_daf24_row2_col0 {\n",
       "  background-color: #f5c2aa;\n",
       "  color: #000000;\n",
       "}\n",
       "#T_daf24_row0_col3, #T_daf24_row1_col2, #T_daf24_row2_col1, #T_daf24_row3_col0 {\n",
       "  background-color: #5875e1;\n",
       "  color: #f1f1f1;\n",
       "}\n",
       "#T_daf24_row0_col4, #T_daf24_row4_col0 {\n",
       "  background-color: #4b64d5;\n",
       "  color: #f1f1f1;\n",
       "}\n",
       "#T_daf24_row0_col5, #T_daf24_row5_col0 {\n",
       "  background-color: #3b4cc0;\n",
       "  color: #f1f1f1;\n",
       "}\n",
       "#T_daf24_row1_col3, #T_daf24_row3_col1 {\n",
       "  background-color: #dedcdb;\n",
       "  color: #000000;\n",
       "}\n",
       "#T_daf24_row1_col4, #T_daf24_row4_col1 {\n",
       "  background-color: #f7a889;\n",
       "  color: #000000;\n",
       "}\n",
       "#T_daf24_row1_col5, #T_daf24_row5_col1 {\n",
       "  background-color: #7295f4;\n",
       "  color: #f1f1f1;\n",
       "}\n",
       "#T_daf24_row2_col3, #T_daf24_row3_col2 {\n",
       "  background-color: #dadce0;\n",
       "  color: #000000;\n",
       "}\n",
       "#T_daf24_row2_col4, #T_daf24_row4_col2 {\n",
       "  background-color: #536edd;\n",
       "  color: #f1f1f1;\n",
       "}\n",
       "#T_daf24_row2_col5, #T_daf24_row5_col2 {\n",
       "  background-color: #f1cdba;\n",
       "  color: #000000;\n",
       "}\n",
       "#T_daf24_row3_col4, #T_daf24_row4_col3 {\n",
       "  background-color: #f59c7d;\n",
       "  color: #000000;\n",
       "}\n",
       "#T_daf24_row3_col5, #T_daf24_row5_col3 {\n",
       "  background-color: #e8765c;\n",
       "  color: #f1f1f1;\n",
       "}\n",
       "#T_daf24_row4_col5, #T_daf24_row5_col4 {\n",
       "  background-color: #e3d9d3;\n",
       "  color: #000000;\n",
       "}\n",
       "</style>\n",
       "<table id=\"T_daf24_\">\n",
       "  <thead>\n",
       "    <tr>\n",
       "      <th class=\"blank level0\" >&nbsp;</th>\n",
       "      <th class=\"col_heading level0 col0\" >min_begin</th>\n",
       "      <th class=\"col_heading level0 col1\" >max_begin</th>\n",
       "      <th class=\"col_heading level0 col2\" >min_end</th>\n",
       "      <th class=\"col_heading level0 col3\" >max_end</th>\n",
       "      <th class=\"col_heading level0 col4\" >count</th>\n",
       "      <th class=\"col_heading level0 col5\" >time_consume_per_vote</th>\n",
       "    </tr>\n",
       "  </thead>\n",
       "  <tbody>\n",
       "    <tr>\n",
       "      <th id=\"T_daf24_level0_row0\" class=\"row_heading level0 row0\" >min_begin</th>\n",
       "      <td id=\"T_daf24_row0_col0\" class=\"data row0 col0\" >1.000000</td>\n",
       "      <td id=\"T_daf24_row0_col1\" class=\"data row0 col1\" >0.082276</td>\n",
       "      <td id=\"T_daf24_row0_col2\" class=\"data row0 col2\" >0.370383</td>\n",
       "      <td id=\"T_daf24_row0_col3\" class=\"data row0 col3\" >-0.547887</td>\n",
       "      <td id=\"T_daf24_row0_col4\" class=\"data row0 col4\" >-0.614004</td>\n",
       "      <td id=\"T_daf24_row0_col5\" class=\"data row0 col5\" >-0.711813</td>\n",
       "    </tr>\n",
       "    <tr>\n",
       "      <th id=\"T_daf24_level0_row1\" class=\"row_heading level0 row1\" >max_begin</th>\n",
       "      <td id=\"T_daf24_row1_col0\" class=\"data row1 col0\" >0.082276</td>\n",
       "      <td id=\"T_daf24_row1_col1\" class=\"data row1 col1\" >1.000000</td>\n",
       "      <td id=\"T_daf24_row1_col2\" class=\"data row1 col2\" >-0.547942</td>\n",
       "      <td id=\"T_daf24_row1_col3\" class=\"data row1 col3\" >0.151572</td>\n",
       "      <td id=\"T_daf24_row1_col4\" class=\"data row1 col4\" >0.506862</td>\n",
       "      <td id=\"T_daf24_row1_col5\" class=\"data row1 col5\" >-0.416152</td>\n",
       "    </tr>\n",
       "    <tr>\n",
       "      <th id=\"T_daf24_level0_row2\" class=\"row_heading level0 row2\" >min_end</th>\n",
       "      <td id=\"T_daf24_row2_col0\" class=\"data row2 col0\" >0.370383</td>\n",
       "      <td id=\"T_daf24_row2_col1\" class=\"data row2 col1\" >-0.547942</td>\n",
       "      <td id=\"T_daf24_row2_col2\" class=\"data row2 col2\" >1.000000</td>\n",
       "      <td id=\"T_daf24_row2_col3\" class=\"data row2 col3\" >0.129046</td>\n",
       "      <td id=\"T_daf24_row2_col4\" class=\"data row2 col4\" >-0.577872</td>\n",
       "      <td id=\"T_daf24_row2_col5\" class=\"data row2 col5\" >0.298075</td>\n",
       "    </tr>\n",
       "    <tr>\n",
       "      <th id=\"T_daf24_level0_row3\" class=\"row_heading level0 row3\" >max_end</th>\n",
       "      <td id=\"T_daf24_row3_col0\" class=\"data row3 col0\" >-0.547887</td>\n",
       "      <td id=\"T_daf24_row3_col1\" class=\"data row3 col1\" >0.151572</td>\n",
       "      <td id=\"T_daf24_row3_col2\" class=\"data row3 col2\" >0.129046</td>\n",
       "      <td id=\"T_daf24_row3_col3\" class=\"data row3 col3\" >1.000000</td>\n",
       "      <td id=\"T_daf24_row3_col4\" class=\"data row3 col4\" >0.564497</td>\n",
       "      <td id=\"T_daf24_row3_col5\" class=\"data row3 col5\" >0.712461</td>\n",
       "    </tr>\n",
       "    <tr>\n",
       "      <th id=\"T_daf24_level0_row4\" class=\"row_heading level0 row4\" >count</th>\n",
       "      <td id=\"T_daf24_row4_col0\" class=\"data row4 col0\" >-0.614004</td>\n",
       "      <td id=\"T_daf24_row4_col1\" class=\"data row4 col1\" >0.506862</td>\n",
       "      <td id=\"T_daf24_row4_col2\" class=\"data row4 col2\" >-0.577872</td>\n",
       "      <td id=\"T_daf24_row4_col3\" class=\"data row4 col3\" >0.564497</td>\n",
       "      <td id=\"T_daf24_row4_col4\" class=\"data row4 col4\" >1.000000</td>\n",
       "      <td id=\"T_daf24_row4_col5\" class=\"data row4 col5\" >0.187662</td>\n",
       "    </tr>\n",
       "    <tr>\n",
       "      <th id=\"T_daf24_level0_row5\" class=\"row_heading level0 row5\" >time_consume_per_vote</th>\n",
       "      <td id=\"T_daf24_row5_col0\" class=\"data row5 col0\" >-0.711813</td>\n",
       "      <td id=\"T_daf24_row5_col1\" class=\"data row5 col1\" >-0.416152</td>\n",
       "      <td id=\"T_daf24_row5_col2\" class=\"data row5 col2\" >0.298075</td>\n",
       "      <td id=\"T_daf24_row5_col3\" class=\"data row5 col3\" >0.712461</td>\n",
       "      <td id=\"T_daf24_row5_col4\" class=\"data row5 col4\" >0.187662</td>\n",
       "      <td id=\"T_daf24_row5_col5\" class=\"data row5 col5\" >1.000000</td>\n",
       "    </tr>\n",
       "  </tbody>\n",
       "</table>\n"
      ],
      "text/plain": [
       "<pandas.io.formats.style.Styler at 0x25669636490>"
      ]
     },
     "execution_count": 67,
     "metadata": {},
     "output_type": "execute_result"
    }
   ],
   "source": [
    "corr_ta = ta.corr()\n",
    "corr_ta.style.background_gradient(cmap='coolwarm', axis=None)\n"
   ]
  },
  {
   "cell_type": "code",
   "execution_count": 31,
   "metadata": {},
   "outputs": [],
   "source": [
    "# %%time\n",
    "# import matplotlib.pyplot as plt\n",
    "# ta_plt2 = pd.DataFrame(ta['operate_zone_code'].value_counts())\n",
    "# ta_plt2 = pd.DataFrame(ta_plt2['operate_zone_code'].value_counts())\n",
    "# ta_plt2['site'] = ta_plt2.index\n",
    "# plt.pie(x = 'operate_zone_code' , data =ta_plt2)"
   ]
  },
  {
   "cell_type": "code",
   "execution_count": 68,
   "metadata": {},
   "outputs": [],
   "source": [
    "# %%time\n",
    "# task_loc = ta.merge(loc, left_on='operate_zone_code', right_on = '场地代码', how = 'left')"
   ]
  },
  {
   "cell_type": "code",
   "execution_count": null,
   "metadata": {},
   "outputs": [],
   "source": [
    "%%time\n",
    "del loc, ta \n",
    "# task_loc.to_pickle('./data_clean/task_loc.p')\n"
   ]
  },
  {
   "cell_type": "code",
   "execution_count": 51,
   "metadata": {},
   "outputs": [],
   "source": [
    "# %%time\n",
    "# task_loc_valued = task_loc[~task_loc['场地代码'].isna()]\n",
    "# task_loc_nulled = task_loc[task_loc['场地代码'].isna()]"
   ]
  },
  {
   "cell_type": "code",
   "execution_count": null,
   "metadata": {},
   "outputs": [],
   "source": [
    "# task_loc.isnull().sum()/len(task_loc)"
   ]
  },
  {
   "cell_type": "markdown",
   "metadata": {},
   "source": [
    "---\n",
    "# od"
   ]
  },
  {
   "cell_type": "code",
   "execution_count": 4,
   "metadata": {},
   "outputs": [
    {
     "data": {
      "text/plain": [
       "'\\n只搞了10天的,   历史到件量的场地不是每个都需要考虑的吧 集货OD对应的场地应该只有400出头 场地数据基本能覆盖的\\n'"
      ]
     },
     "execution_count": 4,
     "metadata": {},
     "output_type": "execute_result"
    }
   ],
   "source": [
    "od = pd.read_pickle('./data_clean/od.p');od.head(5)\n",
    "\"\"\"\n",
    "只搞了10天的,   历史到件量的场地不是每个都需要考虑的吧 集货OD对应的场地应该只有400出头 场地数据基本能覆盖的\n",
    "\"\"\""
   ]
  },
  {
   "cell_type": "code",
   "execution_count": null,
   "metadata": {},
   "outputs": [],
   "source": [
    "[prc_in[(prc_in['date1'] == '2021-06-08') & (prc_in['destsitecode'] == '552W')].sum(),\n",
    "prc_in[(prc_in['date1'] == '2021-06-04') & (prc_in['srcsitecode'] == '552W')].sum()]"
   ]
  },
  {
   "cell_type": "code",
   "execution_count": 8,
   "metadata": {},
   "outputs": [
    {
     "data": {
      "text/html": [
       "<div>\n",
       "<style scoped>\n",
       "    .dataframe tbody tr th:only-of-type {\n",
       "        vertical-align: middle;\n",
       "    }\n",
       "\n",
       "    .dataframe tbody tr th {\n",
       "        vertical-align: top;\n",
       "    }\n",
       "\n",
       "    .dataframe thead th {\n",
       "        text-align: right;\n",
       "    }\n",
       "</style>\n",
       "<table border=\"1\" class=\"dataframe\">\n",
       "  <thead>\n",
       "    <tr style=\"text-align: right;\">\n",
       "      <th></th>\n",
       "      <th>destsitecode</th>\n",
       "      <th>date1</th>\n",
       "      <th>batch_cnt</th>\n",
       "      <th>route_cnt</th>\n",
       "      <th>votes</th>\n",
       "      <th>weights</th>\n",
       "      <th>air_votes</th>\n",
       "      <th>air_weights</th>\n",
       "    </tr>\n",
       "  </thead>\n",
       "  <tbody>\n",
       "    <tr>\n",
       "      <th>0</th>\n",
       "      <td>010R</td>\n",
       "      <td>2021-06-01</td>\n",
       "      <td>9</td>\n",
       "      <td>11</td>\n",
       "      <td>16.0</td>\n",
       "      <td>140.800000</td>\n",
       "      <td>4.0</td>\n",
       "      <td>33.666667</td>\n",
       "    </tr>\n",
       "    <tr>\n",
       "      <th>1</th>\n",
       "      <td>010R</td>\n",
       "      <td>2021-06-02</td>\n",
       "      <td>7</td>\n",
       "      <td>8</td>\n",
       "      <td>8.0</td>\n",
       "      <td>34.600000</td>\n",
       "      <td>2.0</td>\n",
       "      <td>32.500000</td>\n",
       "    </tr>\n",
       "    <tr>\n",
       "      <th>2</th>\n",
       "      <td>010R</td>\n",
       "      <td>2021-06-03</td>\n",
       "      <td>8</td>\n",
       "      <td>10</td>\n",
       "      <td>17.0</td>\n",
       "      <td>106.216667</td>\n",
       "      <td>6.0</td>\n",
       "      <td>12.400000</td>\n",
       "    </tr>\n",
       "    <tr>\n",
       "      <th>3</th>\n",
       "      <td>010R</td>\n",
       "      <td>2021-06-04</td>\n",
       "      <td>4</td>\n",
       "      <td>7</td>\n",
       "      <td>28.0</td>\n",
       "      <td>194.175000</td>\n",
       "      <td>3.0</td>\n",
       "      <td>10.400000</td>\n",
       "    </tr>\n",
       "    <tr>\n",
       "      <th>4</th>\n",
       "      <td>010R</td>\n",
       "      <td>2021-06-05</td>\n",
       "      <td>5</td>\n",
       "      <td>6</td>\n",
       "      <td>7.0</td>\n",
       "      <td>15.333333</td>\n",
       "      <td>1.0</td>\n",
       "      <td>13.000000</td>\n",
       "    </tr>\n",
       "    <tr>\n",
       "      <th>...</th>\n",
       "      <td>...</td>\n",
       "      <td>...</td>\n",
       "      <td>...</td>\n",
       "      <td>...</td>\n",
       "      <td>...</td>\n",
       "      <td>...</td>\n",
       "      <td>...</td>\n",
       "      <td>...</td>\n",
       "    </tr>\n",
       "    <tr>\n",
       "      <th>4898</th>\n",
       "      <td>SIN01R</td>\n",
       "      <td>2021-06-06</td>\n",
       "      <td>141</td>\n",
       "      <td>104</td>\n",
       "      <td>0.0</td>\n",
       "      <td>0.000000</td>\n",
       "      <td>285.0</td>\n",
       "      <td>1264.000000</td>\n",
       "    </tr>\n",
       "    <tr>\n",
       "      <th>4899</th>\n",
       "      <td>SIN01R</td>\n",
       "      <td>2021-06-07</td>\n",
       "      <td>265</td>\n",
       "      <td>167</td>\n",
       "      <td>0.0</td>\n",
       "      <td>0.000000</td>\n",
       "      <td>950.0</td>\n",
       "      <td>4844.884615</td>\n",
       "    </tr>\n",
       "    <tr>\n",
       "      <th>4900</th>\n",
       "      <td>SIN01R</td>\n",
       "      <td>2021-06-08</td>\n",
       "      <td>256</td>\n",
       "      <td>157</td>\n",
       "      <td>0.0</td>\n",
       "      <td>0.000000</td>\n",
       "      <td>923.0</td>\n",
       "      <td>3888.000000</td>\n",
       "    </tr>\n",
       "    <tr>\n",
       "      <th>4901</th>\n",
       "      <td>SIN01R</td>\n",
       "      <td>2021-06-09</td>\n",
       "      <td>242</td>\n",
       "      <td>150</td>\n",
       "      <td>0.0</td>\n",
       "      <td>0.000000</td>\n",
       "      <td>933.0</td>\n",
       "      <td>4632.535556</td>\n",
       "    </tr>\n",
       "    <tr>\n",
       "      <th>4902</th>\n",
       "      <td>SIN01R</td>\n",
       "      <td>2021-06-10</td>\n",
       "      <td>278</td>\n",
       "      <td>176</td>\n",
       "      <td>0.0</td>\n",
       "      <td>0.000000</td>\n",
       "      <td>952.0</td>\n",
       "      <td>4546.200000</td>\n",
       "    </tr>\n",
       "  </tbody>\n",
       "</table>\n",
       "<p>4903 rows × 8 columns</p>\n",
       "</div>"
      ],
      "text/plain": [
       "     destsitecode       date1  batch_cnt  route_cnt  votes     weights  \\\n",
       "0            010R  2021-06-01          9         11   16.0  140.800000   \n",
       "1            010R  2021-06-02          7          8    8.0   34.600000   \n",
       "2            010R  2021-06-03          8         10   17.0  106.216667   \n",
       "3            010R  2021-06-04          4          7   28.0  194.175000   \n",
       "4            010R  2021-06-05          5          6    7.0   15.333333   \n",
       "...           ...         ...        ...        ...    ...         ...   \n",
       "4898       SIN01R  2021-06-06        141        104    0.0    0.000000   \n",
       "4899       SIN01R  2021-06-07        265        167    0.0    0.000000   \n",
       "4900       SIN01R  2021-06-08        256        157    0.0    0.000000   \n",
       "4901       SIN01R  2021-06-09        242        150    0.0    0.000000   \n",
       "4902       SIN01R  2021-06-10        278        176    0.0    0.000000   \n",
       "\n",
       "      air_votes  air_weights  \n",
       "0           4.0    33.666667  \n",
       "1           2.0    32.500000  \n",
       "2           6.0    12.400000  \n",
       "3           3.0    10.400000  \n",
       "4           1.0    13.000000  \n",
       "...         ...          ...  \n",
       "4898      285.0  1264.000000  \n",
       "4899      950.0  4844.884615  \n",
       "4900      923.0  3888.000000  \n",
       "4901      933.0  4632.535556  \n",
       "4902      952.0  4546.200000  \n",
       "\n",
       "[4903 rows x 8 columns]"
      ]
     },
     "execution_count": 8,
     "metadata": {},
     "output_type": "execute_result"
    }
   ],
   "source": [
    "# prc_in.head()\n",
    "\n",
    "# od = prc_in.groupby(['srcsitecode','destsitecode', 'date1']).agg(\n",
    "#     batch_cnt = ('srcbatchcode', 'nunique'),\n",
    "#     route_cnt = ('route_code', 'nunique'),\n",
    "#     votes = ('votes', sum),\n",
    "#     weights = ('weight1', sum),\n",
    "#     air_votes =('air_votes', sum),\n",
    "#     air_weights = ('air_weight1', sum)\n",
    "# ).reset_index()\n",
    "\n",
    "od_dest = od.groupby(['destsitecode', 'date1']).agg(\n",
    "    {'batch_cnt': sum, \n",
    "    'route_cnt': sum,\n",
    "    'votes': sum, \n",
    "    'weights': sum,\n",
    "    'air_votes': sum, \n",
    "    'air_weights':sum\n",
    "    }).reset_index();od_dest"
   ]
  },
  {
   "cell_type": "code",
   "execution_count": null,
   "metadata": {},
   "outputs": [],
   "source": [
    "# od.to_pickle('./data_clean/od.p')"
   ]
  },
  {
   "cell_type": "code",
   "execution_count": 21,
   "metadata": {},
   "outputs": [
    {
     "data": {
      "text/plain": [
       "[array(['2021-06-01', '2021-06-02', '2021-06-03', '2021-06-04',\n",
       "        '2021-06-05', '2021-06-06', '2021-06-07', '2021-06-08',\n",
       "        '2021-06-09', '2021-06-10'], dtype=object),\n",
       " '2021-06-10']"
      ]
     },
     "execution_count": 21,
     "metadata": {},
     "output_type": "execute_result"
    }
   ],
   "source": [
    "[od.date1.unique(), od.date1.max()]"
   ]
  },
  {
   "cell_type": "markdown",
   "metadata": {},
   "source": [
    "---\n",
    "\n",
    "# hist"
   ]
  },
  {
   "cell_type": "code",
   "execution_count": 42,
   "metadata": {},
   "outputs": [
    {
     "data": {
      "text/html": [
       "<div>\n",
       "<style scoped>\n",
       "    .dataframe tbody tr th:only-of-type {\n",
       "        vertical-align: middle;\n",
       "    }\n",
       "\n",
       "    .dataframe tbody tr th {\n",
       "        vertical-align: top;\n",
       "    }\n",
       "\n",
       "    .dataframe thead th {\n",
       "        text-align: right;\n",
       "    }\n",
       "</style>\n",
       "<table border=\"1\" class=\"dataframe\">\n",
       "  <thead>\n",
       "    <tr style=\"text-align: right;\">\n",
       "      <th></th>\n",
       "      <th>a.report_dt</th>\n",
       "      <th>a.zonecode</th>\n",
       "      <th>all_arr_waybill</th>\n",
       "      <th>all_arr_weight</th>\n",
       "      <th>simu_arr_waybill</th>\n",
       "      <th>simu_arr_weight</th>\n",
       "    </tr>\n",
       "  </thead>\n",
       "  <tbody>\n",
       "    <tr>\n",
       "      <th>35110</th>\n",
       "      <td>2021-06-04</td>\n",
       "      <td>552W</td>\n",
       "      <td>175334</td>\n",
       "      <td>472758.782153</td>\n",
       "      <td>6500</td>\n",
       "      <td>13488.254667</td>\n",
       "    </tr>\n",
       "  </tbody>\n",
       "</table>\n",
       "</div>"
      ],
      "text/plain": [
       "      a.report_dt a.zonecode  all_arr_waybill  all_arr_weight  \\\n",
       "35110  2021-06-04       552W           175334   472758.782153   \n",
       "\n",
       "       simu_arr_waybill  simu_arr_weight  \n",
       "35110              6500     13488.254667  "
      ]
     },
     "execution_count": 42,
     "metadata": {},
     "output_type": "execute_result"
    }
   ],
   "source": [
    "hist_arr[(hist_arr['a.zonecode'] == '552W') & ( hist_arr['a.report_dt'] == '2021-06-04' )]"
   ]
  },
  {
   "cell_type": "markdown",
   "metadata": {},
   "source": [
    "# hist_arr.to_pickle('./data_clean/hist_arr.p')\n",
    "# merge all"
   ]
  },
  {
   "cell_type": "code",
   "execution_count": 5,
   "metadata": {},
   "outputs": [
    {
     "data": {
      "text/html": [
       "<div>\n",
       "<style scoped>\n",
       "    .dataframe tbody tr th:only-of-type {\n",
       "        vertical-align: middle;\n",
       "    }\n",
       "\n",
       "    .dataframe tbody tr th {\n",
       "        vertical-align: top;\n",
       "    }\n",
       "\n",
       "    .dataframe thead th {\n",
       "        text-align: right;\n",
       "    }\n",
       "</style>\n",
       "<table border=\"1\" class=\"dataframe\">\n",
       "  <thead>\n",
       "    <tr style=\"text-align: right;\">\n",
       "      <th></th>\n",
       "      <th>a.report_dt</th>\n",
       "      <th>a.zonecode</th>\n",
       "      <th>all_arr_waybill</th>\n",
       "      <th>all_arr_weight</th>\n",
       "      <th>simu_arr_waybill</th>\n",
       "      <th>simu_arr_weight</th>\n",
       "    </tr>\n",
       "  </thead>\n",
       "  <tbody>\n",
       "    <tr>\n",
       "      <th>0</th>\n",
       "      <td>2021-06-08</td>\n",
       "      <td>010CC006</td>\n",
       "      <td>525</td>\n",
       "      <td>1280.400000</td>\n",
       "      <td>0</td>\n",
       "      <td>0.000000</td>\n",
       "    </tr>\n",
       "    <tr>\n",
       "      <th>1</th>\n",
       "      <td>2021-06-08</td>\n",
       "      <td>010CC007</td>\n",
       "      <td>0</td>\n",
       "      <td>0.000000</td>\n",
       "      <td>0</td>\n",
       "      <td>0.000000</td>\n",
       "    </tr>\n",
       "    <tr>\n",
       "      <th>2</th>\n",
       "      <td>2021-06-08</td>\n",
       "      <td>010R</td>\n",
       "      <td>102944</td>\n",
       "      <td>230415.243664</td>\n",
       "      <td>76818</td>\n",
       "      <td>165515.803556</td>\n",
       "    </tr>\n",
       "    <tr>\n",
       "      <th>3</th>\n",
       "      <td>2021-06-08</td>\n",
       "      <td>010RA</td>\n",
       "      <td>109154</td>\n",
       "      <td>249089.557278</td>\n",
       "      <td>109154</td>\n",
       "      <td>249089.557278</td>\n",
       "    </tr>\n",
       "    <tr>\n",
       "      <th>4</th>\n",
       "      <td>2021-06-08</td>\n",
       "      <td>010RG</td>\n",
       "      <td>119183</td>\n",
       "      <td>261849.663955</td>\n",
       "      <td>118678</td>\n",
       "      <td>260439.168955</td>\n",
       "    </tr>\n",
       "  </tbody>\n",
       "</table>\n",
       "</div>"
      ],
      "text/plain": [
       "  a.report_dt a.zonecode  all_arr_waybill  all_arr_weight  simu_arr_waybill  \\\n",
       "0  2021-06-08   010CC006              525     1280.400000                 0   \n",
       "1  2021-06-08   010CC007                0        0.000000                 0   \n",
       "2  2021-06-08       010R           102944   230415.243664             76818   \n",
       "3  2021-06-08      010RA           109154   249089.557278            109154   \n",
       "4  2021-06-08      010RG           119183   261849.663955            118678   \n",
       "\n",
       "   simu_arr_weight  \n",
       "0         0.000000  \n",
       "1         0.000000  \n",
       "2    165515.803556  \n",
       "3    249089.557278  \n",
       "4    260439.168955  "
      ]
     },
     "execution_count": 5,
     "metadata": {},
     "output_type": "execute_result"
    }
   ],
   "source": [
    "hist_arr = pd.read_pickle('./data_clean/hist_arr.p')\n",
    "hist_arr.head()"
   ]
  },
  {
   "cell_type": "markdown",
   "metadata": {},
   "source": [
    "--- "
   ]
  },
  {
   "cell_type": "markdown",
   "metadata": {},
   "source": [
    "# data subset to 10 days"
   ]
  },
  {
   "cell_type": "code",
   "execution_count": 10,
   "metadata": {},
   "outputs": [],
   "source": [
    "hist_arr_part = hist_arr[hist_arr['a.report_dt'] < '2021-06-11']\n",
    "\n",
    "od_dest = od.groupby(['destsitecode', 'date1']).agg(\n",
    "    {'batch_cnt': sum, \n",
    "    'route_cnt': sum,\n",
    "    'votes': sum, \n",
    "    'weights': sum,\n",
    "    'air_votes': sum, \n",
    "    'air_weights':sum\n",
    "    }).reset_index();od_dest"
   ]
  },
  {
   "cell_type": "markdown",
   "metadata": {},
   "source": [
    "--- \n",
    "# merge od_dest, ta, loc, hist_arr_part"
   ]
  },
  {
   "cell_type": "code",
   "execution_count": 75,
   "metadata": {},
   "outputs": [
    {
     "data": {
      "text/plain": [
       "[Index(['operate_zone_code', 'batch_date', 'min_begin', 'max_begin', 'min_end',\n",
       "        'max_end', 'count', 'time_consume_per_vote'],\n",
       "       dtype='object'),\n",
       " Index(['destsitecode', 'date1', 'batch_cnt', 'route_cnt', 'votes', 'weights',\n",
       "        'air_votes', 'air_weights'],\n",
       "       dtype='object'),\n",
       " Index(['场地代码', '场地类型', '主服务业务区', '单小时处理能力', '卸货卡位总数', '卸车卡位（17.5M）',\n",
       "        '卸车卡位（>=15M）', '卸车卡位（<15M）', '装货卡位总数', '装车卡位（17.5M）', '装车卡位（15M）',\n",
       "        '装车卡位（13.5M）', '装车卡位（9.6M）', '装车卡位（7.6M）', '装车卡位（5.2M）', 'off', 'onn',\n",
       "        'off_p1', 'off_p2', 'onn_p1', 'onn_p2'],\n",
       "       dtype='object'),\n",
       " Index(['a.report_dt', 'a.zonecode', 'all_arr_waybill', 'all_arr_weight',\n",
       "        'simu_arr_waybill', 'simu_arr_weight'],\n",
       "       dtype='object')]"
      ]
     },
     "execution_count": 75,
     "metadata": {},
     "output_type": "execute_result"
    }
   ],
   "source": [
    "[ta.columns,\n",
    "od_dest.columns,\n",
    "loc.columns,\n",
    "hist_arr_part.columns]"
   ]
  },
  {
   "cell_type": "code",
   "execution_count": 131,
   "metadata": {},
   "outputs": [],
   "source": [
    "\"\"\"\n",
    "od_dest , ta, loc, hist_arr_part\n",
    "\"\"\"\n",
    "od_ta = od_dest.merge(ta, \\\n",
    "    left_on=['destsitecode', 'date1'], \n",
    "    right_on = ['operate_zone_code', 'batch_date'],\n",
    "    how = 'left',  validate = 'one_to_one') \n",
    "    # task arrange lakc 31\n",
    "\n",
    "# od_dest.merge(loc, \\\n",
    "#     left_on=['destsitecode' ], \n",
    "#     right_on = ['场地代码'],\n",
    "#     how = 'left')\n",
    "    #  .isna().sum() 1388\n",
    "\n",
    "od_ta_his = hist_arr_part.merge(\n",
    "    od_ta, \n",
    "    left_on = ['a.report_dt', 'a.zonecode'], \n",
    "    right_on = ['date1', 'destsitecode'], validate = 'one_to_one', how = 'right') \\\n",
    "        # .isna().sum()   264"
   ]
  },
  {
   "cell_type": "code",
   "execution_count": 132,
   "metadata": {},
   "outputs": [],
   "source": [
    "od_ta_his = od_ta_his.drop(['a.report_dt', 'a.zonecode','operate_zone_code','batch_date'], axis= 1)"
   ]
  },
  {
   "cell_type": "code",
   "execution_count": 133,
   "metadata": {},
   "outputs": [
    {
     "name": "stderr",
     "output_type": "stream",
     "text": [
      "C:\\Users\\dscshap3808\\Miniconda3\\envs\\siming\\lib\\site-packages\\sklearn\\utils\\validation.py:70: FutureWarning: Pass missing_values=median as keyword args. From version 1.0 (renaming of 0.25) passing these as positional arguments will result in an error\n",
      "  warnings.warn(f\"Pass {args_msg} as keyword args. From version \"\n"
     ]
    }
   ],
   "source": [
    "od_ta_his.isna().sum() \n",
    "from sklearn.preprocessing import LabelEncoder, StandardScaler\n",
    "from sklearn.impute import SimpleImputer, KNNImputer\n",
    "imp = SimpleImputer('median', missing_values = np.nan )\n",
    "imp2 = KNNImputer(n_neighbors=12, weights=\"uniform\", missing_values = np.nan)\n",
    "# imp.fit_transform(od_ta_his[list(impute.index)])"
   ]
  },
  {
   "cell_type": "code",
   "execution_count": 134,
   "metadata": {},
   "outputs": [],
   "source": [
    "impute = pd.DataFrame(od_ta_his.isna().sum() != 0)\n",
    "impute = impute[impute[0] == True] \n",
    "\n",
    "\n",
    "for i in impute.index:\n",
    "    od_ta_his[i] = od_ta_his[i].astype(float)\n",
    "\n",
    "# # del loc, hist_arr  \n",
    " "
   ]
  },
  {
   "cell_type": "code",
   "execution_count": 135,
   "metadata": {},
   "outputs": [],
   "source": [
    "\"\"\"\n",
    "knn imputation on missing values.\n",
    "label encoding.\n",
    "standard scale.\n",
    "\"\"\"\n",
    "od_ta_his[impute.index.to_list()] = imp2.fit_transform(od_ta_his[impute.index.to_list()])\n",
    "# pipe = Pipeline([('scaler', StandardScaler()), ('svc', SVC())])"
   ]
  },
  {
   "cell_type": "code",
   "execution_count": 148,
   "metadata": {},
   "outputs": [
    {
     "data": {
      "text/html": [
       "<div>\n",
       "<style scoped>\n",
       "    .dataframe tbody tr th:only-of-type {\n",
       "        vertical-align: middle;\n",
       "    }\n",
       "\n",
       "    .dataframe tbody tr th {\n",
       "        vertical-align: top;\n",
       "    }\n",
       "\n",
       "    .dataframe thead th {\n",
       "        text-align: right;\n",
       "    }\n",
       "</style>\n",
       "<table border=\"1\" class=\"dataframe\">\n",
       "  <thead>\n",
       "    <tr style=\"text-align: right;\">\n",
       "      <th></th>\n",
       "      <th>all_arr_waybill</th>\n",
       "      <th>all_arr_weight</th>\n",
       "      <th>simu_arr_waybill</th>\n",
       "      <th>simu_arr_weight</th>\n",
       "      <th>destsitecode</th>\n",
       "      <th>date1</th>\n",
       "      <th>batch_cnt</th>\n",
       "      <th>route_cnt</th>\n",
       "      <th>votes</th>\n",
       "      <th>weights</th>\n",
       "      <th>air_votes</th>\n",
       "      <th>air_weights</th>\n",
       "      <th>min_begin</th>\n",
       "      <th>max_begin</th>\n",
       "      <th>min_end</th>\n",
       "      <th>max_end</th>\n",
       "      <th>count</th>\n",
       "      <th>time_consume_per_vote</th>\n",
       "    </tr>\n",
       "  </thead>\n",
       "  <tbody>\n",
       "    <tr>\n",
       "      <th>0</th>\n",
       "      <td>117528.0</td>\n",
       "      <td>237472.306251</td>\n",
       "      <td>85223.0</td>\n",
       "      <td>165893.494172</td>\n",
       "      <td>010R</td>\n",
       "      <td>2021-06-01</td>\n",
       "      <td>9</td>\n",
       "      <td>11</td>\n",
       "      <td>16.0</td>\n",
       "      <td>140.800000</td>\n",
       "      <td>4.0</td>\n",
       "      <td>33.666667</td>\n",
       "      <td>1260.0</td>\n",
       "      <td>1400.0</td>\n",
       "      <td>370.0</td>\n",
       "      <td>1360.0</td>\n",
       "      <td>2.0</td>\n",
       "      <td>50.0</td>\n",
       "    </tr>\n",
       "    <tr>\n",
       "      <th>1</th>\n",
       "      <td>114545.0</td>\n",
       "      <td>242443.357334</td>\n",
       "      <td>81537.0</td>\n",
       "      <td>168838.271100</td>\n",
       "      <td>010R</td>\n",
       "      <td>2021-06-02</td>\n",
       "      <td>7</td>\n",
       "      <td>8</td>\n",
       "      <td>8.0</td>\n",
       "      <td>34.600000</td>\n",
       "      <td>2.0</td>\n",
       "      <td>32.500000</td>\n",
       "      <td>1260.0</td>\n",
       "      <td>1400.0</td>\n",
       "      <td>370.0</td>\n",
       "      <td>1360.0</td>\n",
       "      <td>2.0</td>\n",
       "      <td>50.0</td>\n",
       "    </tr>\n",
       "    <tr>\n",
       "      <th>2</th>\n",
       "      <td>97133.0</td>\n",
       "      <td>214623.247696</td>\n",
       "      <td>70183.0</td>\n",
       "      <td>152144.916293</td>\n",
       "      <td>010R</td>\n",
       "      <td>2021-06-03</td>\n",
       "      <td>8</td>\n",
       "      <td>10</td>\n",
       "      <td>17.0</td>\n",
       "      <td>106.216667</td>\n",
       "      <td>6.0</td>\n",
       "      <td>12.400000</td>\n",
       "      <td>1260.0</td>\n",
       "      <td>1400.0</td>\n",
       "      <td>370.0</td>\n",
       "      <td>1360.0</td>\n",
       "      <td>2.0</td>\n",
       "      <td>50.0</td>\n",
       "    </tr>\n",
       "    <tr>\n",
       "      <th>3</th>\n",
       "      <td>102903.0</td>\n",
       "      <td>224132.253492</td>\n",
       "      <td>74137.0</td>\n",
       "      <td>155885.942530</td>\n",
       "      <td>010R</td>\n",
       "      <td>2021-06-04</td>\n",
       "      <td>4</td>\n",
       "      <td>7</td>\n",
       "      <td>28.0</td>\n",
       "      <td>194.175000</td>\n",
       "      <td>3.0</td>\n",
       "      <td>10.400000</td>\n",
       "      <td>1260.0</td>\n",
       "      <td>1400.0</td>\n",
       "      <td>370.0</td>\n",
       "      <td>1360.0</td>\n",
       "      <td>2.0</td>\n",
       "      <td>50.0</td>\n",
       "    </tr>\n",
       "    <tr>\n",
       "      <th>4</th>\n",
       "      <td>64644.0</td>\n",
       "      <td>150821.001720</td>\n",
       "      <td>48298.0</td>\n",
       "      <td>106059.225291</td>\n",
       "      <td>010R</td>\n",
       "      <td>2021-06-05</td>\n",
       "      <td>5</td>\n",
       "      <td>6</td>\n",
       "      <td>7.0</td>\n",
       "      <td>15.333333</td>\n",
       "      <td>1.0</td>\n",
       "      <td>13.000000</td>\n",
       "      <td>1260.0</td>\n",
       "      <td>1400.0</td>\n",
       "      <td>370.0</td>\n",
       "      <td>1360.0</td>\n",
       "      <td>2.0</td>\n",
       "      <td>50.0</td>\n",
       "    </tr>\n",
       "  </tbody>\n",
       "</table>\n",
       "</div>"
      ],
      "text/plain": [
       "   all_arr_waybill  all_arr_weight  simu_arr_waybill  simu_arr_weight  \\\n",
       "0         117528.0   237472.306251           85223.0    165893.494172   \n",
       "1         114545.0   242443.357334           81537.0    168838.271100   \n",
       "2          97133.0   214623.247696           70183.0    152144.916293   \n",
       "3         102903.0   224132.253492           74137.0    155885.942530   \n",
       "4          64644.0   150821.001720           48298.0    106059.225291   \n",
       "\n",
       "  destsitecode       date1  batch_cnt  route_cnt  votes     weights  \\\n",
       "0         010R  2021-06-01          9         11   16.0  140.800000   \n",
       "1         010R  2021-06-02          7          8    8.0   34.600000   \n",
       "2         010R  2021-06-03          8         10   17.0  106.216667   \n",
       "3         010R  2021-06-04          4          7   28.0  194.175000   \n",
       "4         010R  2021-06-05          5          6    7.0   15.333333   \n",
       "\n",
       "   air_votes  air_weights  min_begin  max_begin  min_end  max_end  count  \\\n",
       "0        4.0    33.666667     1260.0     1400.0    370.0   1360.0    2.0   \n",
       "1        2.0    32.500000     1260.0     1400.0    370.0   1360.0    2.0   \n",
       "2        6.0    12.400000     1260.0     1400.0    370.0   1360.0    2.0   \n",
       "3        3.0    10.400000     1260.0     1400.0    370.0   1360.0    2.0   \n",
       "4        1.0    13.000000     1260.0     1400.0    370.0   1360.0    2.0   \n",
       "\n",
       "   time_consume_per_vote  \n",
       "0                   50.0  \n",
       "1                   50.0  \n",
       "2                   50.0  \n",
       "3                   50.0  \n",
       "4                   50.0  "
      ]
     },
     "execution_count": 148,
     "metadata": {},
     "output_type": "execute_result"
    }
   ],
   "source": [
    "od_ta_his.head()"
   ]
  },
  {
   "cell_type": "code",
   "execution_count": 183,
   "metadata": {},
   "outputs": [
    {
     "data": {
      "image/png": "[encoded data removed]",
      "text/plain": [
       "<Figure size 504x504 with 2 Axes>"
      ]
     },
     "metadata": {
      "needs_background": "light"
     },
     "output_type": "display_data"
    }
   ],
   "source": [
    "def plot_distribution(col):\n",
    "    f, axes = plt.subplots(2, 1, figsize=(7, 7), sharex=True)\n",
    "    sns.boxplot(x = col,data = od_ta_his, ax=axes[0])\n",
    "    sns.kdeplot(x = col,data = od_ta_his, ax=axes[1]) \n",
    "\n",
    "plot_distribution('all_arr_waybill')"
   ]
  },
  {
   "cell_type": "code",
   "execution_count": 189,
   "metadata": {},
   "outputs": [
    {
     "data": {
      "image/png": "[encoded data removed]",
      "text/plain": [
       "<Figure size 504x504 with 2 Axes>"
      ]
     },
     "metadata": {
      "needs_background": "light"
     },
     "output_type": "display_data"
    }
   ],
   "source": [
    "plot_distribution('votes')"
   ]
  },
  {
   "cell_type": "code",
   "execution_count": 188,
   "metadata": {},
   "outputs": [
    {
     "data": {
      "image/png": "[encoded data removed]",
      "text/plain": [
       "<Figure size 504x504 with 2 Axes>"
      ]
     },
     "metadata": {
      "needs_background": "light"
     },
     "output_type": "display_data"
    }
   ],
   "source": [
    "plot_distribution('batch_cnt')"
   ]
  },
  {
   "cell_type": "markdown",
   "metadata": {},
   "source": [
    "# lag features\n"
   ]
  },
  {
   "cell_type": "code",
   "execution_count": null,
   "metadata": {},
   "outputs": [],
   "source": []
  },
  {
   "cell_type": "code",
   "execution_count": null,
   "metadata": {},
   "outputs": [],
   "source": [
    "def lag_feature( df, lags, cols):\n",
    "    for col in cols:\n",
    "        print(col)\n",
    "        tmp = df[['destsitecode',col ]]\n",
    "        for i in lags:\n",
    "            shifted = tmp.copy()\n",
    "            shifted.columns = ['destsitecode', col + \"_lag_\"+str(i)]\n",
    "            shifted.date_block_num = shifted.date_block_num + i\n",
    "            df = pd.merge(df, shifted, on=['destsitecode'], how='left')\n",
    "    return df"
   ]
  },
  {
   "cell_type": "code",
   "execution_count": 87,
   "metadata": {},
   "outputs": [],
   "source": [
    "# hist_od_part = hist_arr_part.merge(\n",
    "#     od_dest, \n",
    "#     left_on = ['a.report_dt', 'a.zonecode'], \n",
    "#     right_on = ['date1', 'destsitecode'], validate = 'one_to_one', how = 'right'); len(hist_od_part)\n",
    "\n",
    "# hist_od_part = hist_od_part.drop(['a.report_dt','a.zonecode'], axis =1 )"
   ]
  },
  {
   "cell_type": "code",
   "execution_count": 53,
   "metadata": {},
   "outputs": [],
   "source": [
    "# del od, task_loc, hist_arr\n",
    "# del task_loc_nulled, task_loc_valued\n",
    "# # [len(task_loc), len(train), len(od)]"
   ]
  },
  {
   "cell_type": "markdown",
   "metadata": {},
   "source": [
    "---\n",
    "# transport\n"
   ]
  },
  {
   "cell_type": "code",
   "execution_count": 206,
   "metadata": {},
   "outputs": [
    {
     "data": {
      "text/html": [
       "<div>\n",
       "<style scoped>\n",
       "    .dataframe tbody tr th:only-of-type {\n",
       "        vertical-align: middle;\n",
       "    }\n",
       "\n",
       "    .dataframe tbody tr th {\n",
       "        vertical-align: top;\n",
       "    }\n",
       "\n",
       "    .dataframe thead th {\n",
       "        text-align: right;\n",
       "    }\n",
       "</style>\n",
       "<table border=\"1\" class=\"dataframe\">\n",
       "  <thead>\n",
       "    <tr style=\"text-align: right;\">\n",
       "      <th></th>\n",
       "      <th>cvyName</th>\n",
       "      <th>cvyType</th>\n",
       "      <th>lineCode</th>\n",
       "      <th>lineKey</th>\n",
       "      <th>lineRequireDate</th>\n",
       "      <th>passZoneCodes</th>\n",
       "      <th>stopOver</th>\n",
       "      <th>taskInfos</th>\n",
       "      <th>transportLevel</th>\n",
       "      <th>vehicleInfos</th>\n",
       "    </tr>\n",
       "  </thead>\n",
       "  <tbody>\n",
       "    <tr>\n",
       "      <th>11</th>\n",
       "      <td>北方枣庄0600（常规）</td>\n",
       "      <td>4</td>\n",
       "      <td>536XA632VA0600</td>\n",
       "      <td>536XA632VA0600_2021-06-03_536XA,632VA</td>\n",
       "      <td>2021-06-03</td>\n",
       "      <td>[{'arriveBatchCode': '632VA1200', 'arriveTm': ...</td>\n",
       "      <td>False</td>\n",
       "      <td>[{'drivingFactors': 'T6|632VA;T77|632VA;T4|632...</td>\n",
       "      <td>2</td>\n",
       "      <td>[{'extraMinLoadWeight': 3900000.1549720764, 'l...</td>\n",
       "    </tr>\n",
       "  </tbody>\n",
       "</table>\n",
       "</div>"
      ],
      "text/plain": [
       "         cvyName  cvyType        lineCode  \\\n",
       "11  北方枣庄0600（常规）        4  536XA632VA0600   \n",
       "\n",
       "                                  lineKey lineRequireDate  \\\n",
       "11  536XA632VA0600_2021-06-03_536XA,632VA      2021-06-03   \n",
       "\n",
       "                                        passZoneCodes  stopOver  \\\n",
       "11  [{'arriveBatchCode': '632VA1200', 'arriveTm': ...     False   \n",
       "\n",
       "                                            taskInfos  transportLevel  \\\n",
       "11  [{'drivingFactors': 'T6|632VA;T77|632VA;T4|632...               2   \n",
       "\n",
       "                                         vehicleInfos  \n",
       "11  [{'extraMinLoadWeight': 3900000.1549720764, 'l...  "
      ]
     },
     "execution_count": 206,
     "metadata": {},
     "output_type": "execute_result"
    }
   ],
   "source": [
    "trans.iloc[11:12,:]"
   ]
  },
  {
   "cell_type": "code",
   "execution_count": 194,
   "metadata": {},
   "outputs": [
    {
     "data": {
      "text/plain": [
       "{'arriveBatchCode': '632VA1200',\n",
       " 'arriveTm': 1622693460000,\n",
       " 'destZoneCode': '632VA',\n",
       " 'order': 1,\n",
       " 'sendBatchCode': '536XA2359',\n",
       " 'sendTm': 1622671200000,\n",
       " 'sendZoneCode': '536XA'}"
      ]
     },
     "execution_count": 194,
     "metadata": {},
     "output_type": "execute_result"
    }
   ],
   "source": [
    "trans.iloc[11,:]['passZoneCodes'][0]"
   ]
  },
  {
   "cell_type": "code",
   "execution_count": 242,
   "metadata": {},
   "outputs": [
    {
     "data": {
      "text/plain": [
       "{'drivingFactors': 'T6|632VA;T77|632VA;T4|632VA;T1;T8;T29|632VA;ZT4|632VA;ZT6|632VA',\n",
       " 'loadZone': '536XA',\n",
       " 'taskId': '536XA_632VA',\n",
       " 'unloadZone': '632VA'}"
      ]
     },
     "execution_count": 242,
     "metadata": {},
     "output_type": "execute_result"
    }
   ],
   "source": [
    "trans.iloc[11,:]['taskInfos'][0] # ['unloadZone']"
   ]
  },
  {
   "cell_type": "code",
   "execution_count": 227,
   "metadata": {},
   "outputs": [
    {
     "name": "stdout",
     "output_type": "stream",
     "text": [
      "Wall time: 10 ms\n"
     ]
    }
   ],
   "source": [
    "%%time\n",
    "# set(re.findall('\\|\\w+', trans.iloc[11,:]['taskInfos'][0]['drivingFactors']))\n",
    "taskInfos = pd.DataFrame.from_dict(trans['taskInfos'][0:5])['taskInfos'].apply(pd.Series)"
   ]
  },
  {
   "cell_type": "code",
   "execution_count": 243,
   "metadata": {},
   "outputs": [],
   "source": [
    "test = trans.iloc[0:5,]"
   ]
  },
  {
   "cell_type": "code",
   "execution_count": null,
   "metadata": {},
   "outputs": [],
   "source": [
    "trans.iloc[11:12,:]"
   ]
  },
  {
   "cell_type": "code",
   "execution_count": null,
   "metadata": {},
   "outputs": [],
   "source": [
    "trans.iloc[11,:]['passZoneCodes'][0]"
   ]
  },
  {
   "cell_type": "code",
   "execution_count": null,
   "metadata": {},
   "outputs": [],
   "source": [
    "trans.iloc[11,:]['taskInfos'][0] # ['unloadZone']"
   ]
  },
  {
   "cell_type": "code",
   "execution_count": null,
   "metadata": {},
   "outputs": [],
   "source": [
    "%%time\n",
    "# set(re.findall('\\|\\w+', trans.iloc[11,:]['taskInfos'][0]['drivingFactors']))\n",
    "taskInfos = pd.DataFrame.from_dict(trans['taskInfos'][0:5])['taskInfos'].apply(pd.Series)"
   ]
  },
  {
   "cell_type": "code",
   "execution_count": null,
   "metadata": {},
   "outputs": [],
   "source": [
    "test = trans.iloc[0:5,]"
   ]
  },
  {
   "cell_type": "code",
   "execution_count": null,
   "metadata": {},
   "outputs": [],
   "source": [
    "from pandas.io.json import json_normalize #package for flattening json i\n"
   ]
  },
  {
   "cell_type": "code",
   "execution_count": null,
   "metadata": {},
   "outputs": [],
   "source": [
    "trans.iloc[1,:]['vehicleInfos'][0] # ['unloadZone']"
   ]
  },
  {
   "cell_type": "code",
   "execution_count": null,
   "metadata": {},
   "outputs": [],
   "source": [
    "test['vehicleInfos'][0]"
   ]
  },
  {
   "cell_type": "code",
   "execution_count": null,
   "metadata": {},
   "outputs": [],
   "source": [
    "pd.json_normalize(test['vehicleInfos'], 'vehicleType', '')"
   ]
  },
  {
   "cell_type": "markdown",
   "metadata": {},
   "source": [
    "---\n",
    "# what a model"
   ]
  },
  {
   "cell_type": "code",
   "execution_count": 101,
   "metadata": {},
   "outputs": [
    {
     "data": {
      "text/plain": [
       "Index(['all_arr_waybill', 'all_arr_weight', 'simu_arr_waybill',\n",
       "       'simu_arr_weight', 'destsitecode', 'date1', 'batch_cnt', 'route_cnt',\n",
       "       'votes', 'weights', 'air_votes', 'air_weights', 'min_begin',\n",
       "       'max_begin', 'min_end', 'max_end', 'count', 'time_consume_per_vote',\n",
       "       '场地代码', '场地类型', '主服务业务区', '单小时处理能力', '卸货卡位总数', '卸车卡位（17.5M）',\n",
       "       '卸车卡位（>=15M）', '卸车卡位（<15M）', '装货卡位总数', '装车卡位（17.5M）', '装车卡位（15M）',\n",
       "       '装车卡位（13.5M）', '装车卡位（9.6M）', '装车卡位（7.6M）', '装车卡位（5.2M）', 'off', 'onn',\n",
       "       'off_p1', 'off_p2', 'onn_p1', 'onn_p2'],\n",
       "      dtype='object')"
      ]
     },
     "execution_count": 101,
     "metadata": {},
     "output_type": "execute_result"
    }
   ],
   "source": [
    "od_ta_his_loc.columns"
   ]
  },
  {
   "cell_type": "code",
   "execution_count": 113,
   "metadata": {},
   "outputs": [],
   "source": [
    "\n",
    "train_data = od_ta_his_loc[od_ta_his_loc['destsitecode'] == '010W'] \n",
    "train_x = train_data.drop(['all_arr_weight', 'simu_arr_waybill','simu_arr_weight',\\\n",
    "    'destsitecode'], axis = 1)\n",
    "train_x = train_x[['all_arr_waybill', 'date1', 'batch_cnt', 'route_cnt',\n",
    "       'votes', 'weights', 'air_votes', 'air_weights']]"
   ]
  },
  {
   "cell_type": "code",
   "execution_count": 117,
   "metadata": {},
   "outputs": [],
   "source": [
    "train_x.index = pd.to_datetime(train_x['date1'])\n",
    "train_x = train_x.asfreq('D')\n",
    "train_x = train_x.rename({'all_arr_waybill' : 'y' }, axis = 1)\n",
    "\n",
    "cols = [i for i in train_x.columns if i not in ['y', 'date1']]"
   ]
  },
  {
   "cell_type": "code",
   "execution_count": 120,
   "metadata": {},
   "outputs": [],
   "source": [
    "from sktime.forecasting.model_selection import temporal_train_test_split\n",
    "from sklearn.metrics import mean_absolute_percentage_error\n",
    "x_train, x_test = temporal_train_test_split(train_x, train_size = .7)"
   ]
  },
  {
   "cell_type": "code",
   "execution_count": 133,
   "metadata": {},
   "outputs": [
    {
     "name": "stderr",
     "output_type": "stream",
     "text": [
      "INFO:fbprophet:Disabling yearly seasonality. Run prophet with yearly_seasonality=True to override this.\n",
      "INFO:fbprophet:Disabling daily seasonality. Run prophet with daily_seasonality=True to override this.\n"
     ]
    },
    {
     "name": "stdout",
     "output_type": "stream",
     "text": [
      "Wall time: 6.21 s\n"
     ]
    },
    {
     "data": {
      "text/plain": [
       "0.08629584960435453"
      ]
     },
     "execution_count": 133,
     "metadata": {},
     "output_type": "execute_result"
    }
   ],
   "source": [
    "%%time\n",
    "\n",
    "from fbprophet import Prophet\n",
    "# df = x[['CREATION_DATE_TIME_STAMP', 'qty']]\n",
    "df_naiv = x_train \n",
    "df_naiv = df_naiv.rename({'date1' : 'ds'}, axis = 1)\n",
    "m = Prophet()\n",
    "[m.add_regressor(i) for i in cols]\n",
    "\n",
    "m.fit(df_naiv)\n",
    "\n",
    "from sklearn.metrics import mean_absolute_percentage_error\n",
    "df_naiv_test = x_test\n",
    "df_naiv_test = df_naiv_test.rename({'date1' : 'ds'}, axis = 1)\n",
    "# m.predict(x_test)\n",
    "mean_absolute_percentage_error(df_naiv_test['y'], m.predict(df_naiv_test)['yhat'])\n",
    "# ss"
   ]
  },
  {
   "cell_type": "code",
   "execution_count": 137,
   "metadata": {},
   "outputs": [],
   "source": [
    "# m.plot_components(m.predict(df_naiv))"
   ]
  },
  {
   "cell_type": "code",
   "execution_count": 127,
   "metadata": {},
   "outputs": [
    {
     "data": {
      "text/plain": [
       "'c:\\\\Users\\\\dscshap3808\\\\Documents\\\\my_scripts_new\\\\play7_comp'"
      ]
     },
     "execution_count": 56,
     "metadata": {},
     "output_type": "execute_result"
    }
   ],
   "source": [
    "# %%warning = False\n",
    "import plotly.express as px\n",
    "import plotly.graph_objs as go\n",
    "from plotly.tools import FigureFactory as FF\n",
    "\n",
    "# test_pre_p = go.Figure()\n",
    "# test_pre_p.add_trace(go.Scatter(x = test_pred['ds'],\\\n",
    "#     y = test_pred['yhat'], \n",
    "#     mode = 'markers',\n",
    "#     name = 'pred'))\n",
    "# test_pre_p.add_trace(go.Scatter(x = test_all['ds'], \\\n",
    "#     y = test_all['y'], \n",
    "#     mode = 'markers',\n",
    "#     name = 'original_out'))\n"
   ]
  },
  {
   "cell_type": "code",
   "execution_count": 144,
   "metadata": {},
   "outputs": [],
   "source": [
    "# !jupyter nbconvert data_clea.ipynb --to html --no-input --no-prompt --stdout"
   ]
  },
  {
   "cell_type": "code",
   "execution_count": 145,
   "metadata": {},
   "outputs": [],
   "source": [
    "\n",
    "# select \n",
    "# case when warehouse = 'HPI_SH'\n",
    "# and work_zone = 'Caolu'\n",
    "# then 'HPPXXSMFS' \n",
    "# when warehouse = 'HPI_WH'\n",
    "# then 'HPPXXWHWDS' \n",
    "# else 'HPPXXSHMGS' end\n",
    "# as ou_code , warehouse, work_zone\n",
    "# from \n",
    "# (\n",
    "# select warehouse, work_zone from ods_cn_hpi.location\n",
    "# group by warehouse, work_zone\n",
    "# )\n",
    "    \n",
    "# \"\"\"\n",
    "# hp mapping\n",
    "# \"\"\"\n",
    "\n"
   ]
  }
 ],
 "metadata": {
  "interpreter": {
   "hash": "47b50d2908d96196e4220cfb4e81faa93803065ea975497e7026f672c1f58470"
  },
  "kernelspec": {
   "display_name": "Python 3.8.8 64-bit ('siming': conda)",
   "name": "python3"
  },
  "language_info": {
   "codemirror_mode": {
    "name": "ipython",
    "version": 3
   },
   "file_extension": ".py",
   "mimetype": "text/x-python",
   "name": "python",
   "nbconvert_exporter": "python",
   "pygments_lexer": "ipython3",
   "version": "3.8.8"
  },
  "orig_nbformat": 4
 },
 "nbformat": 4,
 "nbformat_minor": 2
}
